{
 "cells": [
  {
   "attachments": {},
   "cell_type": "markdown",
   "metadata": {},
   "source": [
    "# Import, compile data and preprocess"
   ]
  },
  {
   "cell_type": "code",
   "execution_count": 10,
   "metadata": {},
   "outputs": [
    {
     "data": {
      "text/plain": [
       "<module 'generisAPI.data_cleaning' from 'd:\\\\Emmanuel_petron_Olateju\\\\MMN_SZ\\\\notebooks\\\\generisAPI\\\\data_cleaning.py'>"
      ]
     },
     "execution_count": 10,
     "metadata": {},
     "output_type": "execute_result"
    }
   ],
   "source": [
    "# importations\n",
    "import numpy as np\n",
    "import pandas as pd\n",
    "from pyedflib import EdfReader\n",
    "import mne\n",
    "\n",
    "import matplotlib.pyplot as plt\n",
    "import matplotlib.cm as cm\n",
    "from matplotlib.colors import Normalize\n",
    "\n",
    "import copy\n",
    "import os\n",
    "import importlib\n",
    "\n",
    "import generisAPI\n",
    "importlib.reload(generisAPI)\n",
    "\n",
    "import generisAPI.file_operators as fp\n",
    "importlib.reload(generisAPI.file_operators)\n",
    "\n",
    "import generisAPI.data_cleaning as dcln\n",
    "importlib.reload(generisAPI.data_cleaning)"
   ]
  },
  {
   "cell_type": "code",
   "execution_count": 2,
   "metadata": {},
   "outputs": [
    {
     "data": {
      "text/plain": [
       "21"
      ]
     },
     "execution_count": 2,
     "metadata": {},
     "output_type": "execute_result"
    }
   ],
   "source": [
    "# definitions\n",
    "electrodes=['Fp1','FpZ','Fp2','F7','F8','T7','T8','P7','P8','O1','O2','OZ','FZ','PZ','CZ','F3','F4','P3','P4','C3','C4']\n",
    "len(electrodes)"
   ]
  },
  {
   "cell_type": "code",
   "execution_count": 11,
   "metadata": {},
   "outputs": [],
   "source": [
    "# compile eeg_data and annotations\n",
    "subjects_dataset_root_path = '../acquired_dataset/'\n",
    "\n",
    "data = fp.xtract_id_subject_info_dict(subjects_dataset_root_path)"
   ]
  },
  {
   "cell_type": "code",
   "execution_count": 13,
   "metadata": {},
   "outputs": [
    {
     "name": "stdout",
     "output_type": "stream",
     "text": [
      "[]\n"
     ]
    }
   ],
   "source": [
    "# assert eeg_data trials match marker trials\n",
    "\n",
    "trialMarkerLength = dcln.assertTrialsMarkersLength()\n",
    "trialMarkerLength.fit(data)\n",
    "print(trialMarkerLength.indices)\n",
    "clean_data = trialMarkerLength.transform(data,False)"
   ]
  },
  {
   "cell_type": "code",
   "execution_count": 14,
   "metadata": {},
   "outputs": [
    {
     "name": "stdout",
     "output_type": "stream",
     "text": [
      "{'16': {'rest1': [0, 1], 'arith': [0, 1], 'rest2': [0, 1], 'auditory': [0, 1]}, '20': {'rest1': [], 'arith': [], 'rest2': [], 'auditory': [0]}, '23': {'rest1': [], 'arith': [0], 'rest2': [0], 'auditory': [0]}, '32': {'rest1': [0, 1, 2], 'arith': [0, 1, 2], 'rest2': [0, 1, 2], 'auditory': [0, 1, 2]}, '4': {'rest1': [], 'arith': [], 'rest2': [2], 'auditory': [2]}, '5': {'rest1': [0, 1], 'arith': [0, 1], 'rest2': [0, 1], 'auditory': [0, 1]}, '6': {'rest1': [], 'arith': [], 'rest2': [], 'auditory': [0]}, '8': {'rest1': [0, 1], 'arith': [0, 1], 'rest2': [0, 1], 'auditory': [0, 1]}, '9': {'rest1': [0, 1], 'arith': [0, 1], 'rest2': [0, 1], 'auditory': [0, 1]}}\n"
     ]
    }
   ],
   "source": [
    "# check for null eeg_data\n",
    "\n",
    "null_data_checker = dcln.nullIndicesTracer()\n",
    "null_data_checker.fit(clean_data)\n",
    "print(null_data_checker.indices)\n",
    "clean_data = null_data_checker.transform(clean_data,True)"
   ]
  },
  {
   "cell_type": "markdown",
   "metadata": {},
   "source": [
    "# Preprocessing"
   ]
  },
  {
   "cell_type": "code",
   "execution_count": null,
   "metadata": {},
   "outputs": [],
   "source": [
    "all_subjects_baseline_correction(all_patients_trials_data)"
   ]
  },
  {
   "cell_type": "markdown",
   "metadata": {},
   "source": [
    "# Phase4 MMN"
   ]
  },
  {
   "cell_type": "markdown",
   "metadata": {},
   "source": [
    "## all subjects"
   ]
  },
  {
   "cell_type": "markdown",
   "metadata": {},
   "source": [
    "#### data"
   ]
  },
  {
   "cell_type": "code",
   "execution_count": null,
   "metadata": {},
   "outputs": [],
   "source": [
    "mmn_epoch=Epoch(100,1.3)\n",
    "sp4_epochs=mmn_epoch.all_subject_phase_epochs(4,all_patients_trials_data,all_patients_annotation,0.2)\n",
    "\n",
    "sp4_epochs_filtered = filter_epochs(sp4_epochs,1,30,100)\n",
    "\n",
    "sp4_epochs_average = mmn_epoch.average_epochs(sp4_epochs_filtered)"
   ]
  },
  {
   "cell_type": "markdown",
   "metadata": {},
   "source": [
    "#### cartesian plot"
   ]
  },
  {
   "cell_type": "code",
   "execution_count": null,
   "metadata": {},
   "outputs": [],
   "source": [
    "_Fs=100\n",
    "def plot_by_channels(t0,t1,offset,data,electrodes,fig_size=(20,10)):\n",
    "    assert isinstance(data,dict)\n",
    "    if (t0<0) or (t0-offset<0):\n",
    "        t0 = int(t0*_Fs)\n",
    "        t1 = int(t1*_Fs)\n",
    "    else:\n",
    "        t0 = int((t0-offset)*_Fs)\n",
    "        t1 = int((t1-offset)*_Fs)\n",
    "    offset=int(offset*_Fs)\n",
    "    # no_chs = data[list(data.keys())[0]].shape[0]\n",
    "    no_chs = len(electrodes)\n",
    "    if no_chs <= 8:\n",
    "        n_rows = 2\n",
    "    elif no_chs <= 16:\n",
    "        n_rows = 4\n",
    "    elif no_chs <= 24:\n",
    "        n_rows = 6\n",
    "    n_cols = int(no_chs/n_rows)\n",
    "    fig, ax = plt.subplots(n_rows,n_cols,figsize=fig_size)\n",
    "\n",
    "    for r in range(n_rows):\n",
    "        for c in range(n_cols):\n",
    "            lgnd=list()\n",
    "            for k in data.keys():\n",
    "                # if k != ' ':\n",
    "                lgnd.append(k)\n",
    "                ax[r,c].plot(data[k][(r*n_cols)+c,t0:t1],'--')\n",
    "                plt.legend(lgnd)\n",
    "                ax[r,c].set_xticks(list(range(0,data[k][(r*n_cols)+c,t0:t1].shape[0],10)))\n",
    "                # ax[r,c].set_xticklabels(list(range(-1*offset,t1-offset+10,10)))\n",
    "                ax[r,c].set_xticklabels(list(range(t0,t1,10)))\n",
    "                ax[r,c].set_title(electrodes[(r*n_cols)+c])\n",
    "                ax[r,c].set_xlabel('ms')\n",
    "                ax[r,c].set_ylabel('uV')"
   ]
  },
  {
   "cell_type": "code",
   "execution_count": null,
   "metadata": {},
   "outputs": [],
   "source": [
    "mmn_epoch.plot_by_channels(0,0.5,0.2,sp4_epochs_average[0],electrodes,(22,12))\n",
    "# plot_by_channels(0,0.5,0.2,sp4_epochs_average[0],electrodes,(22,12))"
   ]
  },
  {
   "cell_type": "markdown",
   "metadata": {},
   "source": [
    "#### montage plot"
   ]
  },
  {
   "cell_type": "code",
   "execution_count": null,
   "metadata": {},
   "outputs": [],
   "source": [
    "print(sp4_epochs_average[0].keys(), ', ', len(sp4_epochs_average[0].keys()))"
   ]
  },
  {
   "cell_type": "code",
   "execution_count": null,
   "metadata": {},
   "outputs": [],
   "source": [
    "_Fs=100\n",
    "\n",
    "def extract_eeg_time_window(eeg_samples,t0,t1,offset=0,_Fs=100):\n",
    "    if (t0<0) or (t0-offset<0):\n",
    "        t0 = int(t0*_Fs)\n",
    "        t1 = int(t1*_Fs)\n",
    "    else:\n",
    "        t0 = int((t0-offset)*_Fs)\n",
    "        t1 = int((t1-offset)*_Fs)\n",
    "    return eeg_samples[:,t0:t1]\n",
    "\n",
    "def time_montage_plot(eeg_samples,electrodes,t0,t1,offset,_Fs,fig_size=(6,6)):\n",
    "    assert isinstance(eeg_samples,dict)\n",
    "    for k in eeg_samples:\n",
    "        try:\n",
    "            assert eeg_samples[k][0:21,:].shape[0] == len(electrodes)\n",
    "            print(extract_eeg_time_window(eeg_samples[k][0:21,:],t0,t1,offset,_Fs).shape)\n",
    "        except AssertionError:\n",
    "            print(eeg_samples[k].shape,', ', len(electrodes))\n",
    "    n_rows = len(eeg_samples)\n",
    "    n_cols = int((t1-t0)*_Fs)\n",
    "\n",
    "    print(n_rows,n_cols)\n",
    "\n",
    "    fig,ax = plt.subplots(n_rows,n_cols,figsize=fig_size)\n",
    "\n",
    "    for r,k in enumerate(eeg_samples.keys()):\n",
    "        for t in range(n_cols):\n",
    "            # print(r,t)\n",
    "            montage_plot(\n",
    "                extract_eeg_time_window(eeg_samples[k][0:21,:],t0,t1,offset,_Fs)[:,t],\n",
    "                electrodes,ax[r,t])\n",
    "    plt.show()"
   ]
  },
  {
   "cell_type": "code",
   "execution_count": null,
   "metadata": {},
   "outputs": [],
   "source": [
    "time_montage_plot(sp4_epochs_average[0],electrodes,0,0.03,0.2,100)"
   ]
  },
  {
   "cell_type": "markdown",
   "metadata": {},
   "source": [
    "## subject specific"
   ]
  },
  {
   "cell_type": "markdown",
   "metadata": {},
   "source": [
    "### simiat"
   ]
  },
  {
   "cell_type": "code",
   "execution_count": null,
   "metadata": {},
   "outputs": [],
   "source": [
    "s_mmn_epoch=Epoch(100,1.3)\n",
    "\n",
    "s2p4_epochs=s_mmn_epoch.subject_phase_epochs(0,4,all_patients_trials_data,all_patients_annotation,0.3)\n",
    "\n",
    "s2p4_epochs_filtered = filter_epochs(s2p4_epochs,1,30,100)\n",
    "\n",
    "s2p4_epochs_average = s_mmn_epoch.average_epochs(s2p4_epochs_filtered)\n",
    "\n",
    "mmn_epoch.plot_by_channels(0,50,0.2,s2p4_epochs_average[0],electrodes,(22,12))"
   ]
  },
  {
   "cell_type": "markdown",
   "metadata": {},
   "source": [
    "### feyisayo"
   ]
  },
  {
   "cell_type": "code",
   "execution_count": null,
   "metadata": {},
   "outputs": [],
   "source": [
    "s_mmn_epoch=Epoch(100,1.3)\n",
    "\n",
    "s3p4_epochs=s_mmn_epoch.subject_phase_epochs(1,4,all_patients_trials_data,all_patients_annotation,0.3)\n",
    "\n",
    "s3p4_epochs_filtered = filter_epochs(s3p4_epochs,1,30,100)\n",
    "\n",
    "s3p4_epochs_average = s_mmn_epoch.average_epochs(s3p4_epochs_filtered)\n",
    "\n",
    "mmn_epoch.plot_by_channels(0,50,0.2,s3p4_epochs_average[0],electrodes,(22,12))"
   ]
  },
  {
   "cell_type": "markdown",
   "metadata": {},
   "source": [
    "### abimbola"
   ]
  },
  {
   "cell_type": "code",
   "execution_count": null,
   "metadata": {},
   "outputs": [],
   "source": [
    "s_mmn_epoch=Epoch(100,1.3)\n",
    "\n",
    "s4p4_epochs=s_mmn_epoch.subject_phase_epochs(2,4,all_patients_trials_data,all_patients_annotation,0.3)\n",
    "\n",
    "s4p4_epochs_filtered = filter_epochs(s4p4_epochs,1,30,100)\n",
    "\n",
    "s4p4_epochs_average = s_mmn_epoch.average_epochs(s4p4_epochs_filtered)\n",
    "\n",
    "mmn_epoch.plot_by_channels(0,50,0.2,s4p4_epochs_average[0],electrodes,(22,12))"
   ]
  },
  {
   "cell_type": "markdown",
   "metadata": {},
   "source": [
    "# plots"
   ]
  },
  {
   "cell_type": "code",
   "execution_count": null,
   "metadata": {},
   "outputs": [],
   "source": [
    "x=all_patients_trials_data[1][1][4][0:21,0]"
   ]
  },
  {
   "cell_type": "code",
   "execution_count": null,
   "metadata": {},
   "outputs": [],
   "source": [
    "fig,ax=plt.subplots(1,1,figsize=(4,4))\n",
    "montage_plot(x,electrodes,ax)"
   ]
  },
  {
   "cell_type": "code",
   "execution_count": null,
   "metadata": {},
   "outputs": [],
   "source": []
  }
 ],
 "metadata": {
  "kernelspec": {
   "display_name": "base",
   "language": "python",
   "name": "python3"
  },
  "language_info": {
   "codemirror_mode": {
    "name": "ipython",
    "version": 3
   },
   "file_extension": ".py",
   "mimetype": "text/x-python",
   "name": "python",
   "nbconvert_exporter": "python",
   "pygments_lexer": "ipython3",
   "version": "3.9.13"
  },
  "orig_nbformat": 4,
  "vscode": {
   "interpreter": {
    "hash": "af8259ad5c1c9c7a69bd6ea085234cf8fd3a6a37a71ca551828b314c4d89b0ad"
   }
  }
 },
 "nbformat": 4,
 "nbformat_minor": 2
}

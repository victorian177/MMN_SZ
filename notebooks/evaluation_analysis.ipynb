{
 "cells": [
  {
   "cell_type": "code",
   "execution_count": 1,
   "metadata": {},
   "outputs": [],
   "source": [
    "import numpy as np\n",
    "import pandas as pd\n",
    "import matplotlib.pyplot as plt\n",
    "import seaborn as sns\n",
    "import plotly as ly"
   ]
  },
  {
   "cell_type": "markdown",
   "metadata": {},
   "source": [
    "# Ingest performaances data"
   ]
  },
  {
   "cell_type": "code",
   "execution_count": 30,
   "metadata": {},
   "outputs": [],
   "source": [
    "all_features_performances = pd.read_csv('../models/current_performance.csv')\n",
    "mmn_features_performances = pd.read_csv('../models/mmn_classifiers_performance.csv')\n",
    "assr_features_performances = pd.read_csv('../models/assr_classifiers_performance.csv')\n",
    "entropy_features_performances = pd.read_csv('../models/entropy_classifiers_performance.csv')\n",
    "best_features_performances = pd.read_csv('../models/best_features_classifiers_performance.csv')"
   ]
  },
  {
   "cell_type": "markdown",
   "metadata": {},
   "source": [
    "# Process format"
   ]
  },
  {
   "cell_type": "code",
   "execution_count": 31,
   "metadata": {},
   "outputs": [],
   "source": [
    "all_features_performances.drop(columns=['Unnamed: 0'], inplace=True)\n",
    "all_features_performances.set_index('model',inplace=True)"
   ]
  },
  {
   "cell_type": "code",
   "execution_count": 32,
   "metadata": {},
   "outputs": [],
   "source": [
    "mmn_features_performances.rename(columns={'Unnamed: 0':'class','Unnamed: 1':'metric'},inplace=True)\n",
    "mmn_features_performances = mmn_features_performances.fillna(0)"
   ]
  },
  {
   "cell_type": "code",
   "execution_count": 33,
   "metadata": {},
   "outputs": [],
   "source": [
    "assr_features_performances.rename(columns={'Unnamed: 0':'class','Unnamed: 1':'metric'},inplace=True)\n",
    "assr_features_performances.set_index(['class','metric'],inplace=True)"
   ]
  },
  {
   "cell_type": "code",
   "execution_count": 34,
   "metadata": {},
   "outputs": [],
   "source": [
    "entropy_features_performances.rename(columns={'Unnamed: 0':'class','Unnamed: 1':'metric'},inplace=True)\n",
    "entropy_features_performances.set_index(['class','metric'],inplace=True)"
   ]
  },
  {
   "cell_type": "code",
   "execution_count": 35,
   "metadata": {},
   "outputs": [],
   "source": [
    "best_features_performances.drop(columns=['Unnamed: 0'], inplace=True)\n",
    "best_features_performances.set_index('model',inplace=True)"
   ]
  },
  {
   "cell_type": "code",
   "execution_count": null,
   "metadata": {},
   "outputs": [],
   "source": []
  }
 ],
 "metadata": {
  "kernelspec": {
   "display_name": "base",
   "language": "python",
   "name": "python3"
  },
  "language_info": {
   "codemirror_mode": {
    "name": "ipython",
    "version": 3
   },
   "file_extension": ".py",
   "mimetype": "text/x-python",
   "name": "python",
   "nbconvert_exporter": "python",
   "pygments_lexer": "ipython3",
   "version": "3.10.12"
  },
  "orig_nbformat": 4
 },
 "nbformat": 4,
 "nbformat_minor": 2
}

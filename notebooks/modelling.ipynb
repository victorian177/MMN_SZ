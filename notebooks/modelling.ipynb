{
 "cells": [
  {
   "attachments": {},
   "cell_type": "markdown",
   "metadata": {},
   "source": [
    "# Ingest"
   ]
  },
  {
   "attachments": {},
   "cell_type": "markdown",
   "metadata": {},
   "source": [
    "## Importations of libraries"
   ]
  },
  {
   "cell_type": "code",
   "execution_count": 1,
   "metadata": {},
   "outputs": [],
   "source": [
    "import numpy as np\n",
    "import pandas as pd\n",
    "import matplotlib.pyplot as plt\n",
    "import seaborn as sns\n",
    "import plotly\n",
    "\n",
    "import joblib"
   ]
  },
  {
   "attachments": {},
   "cell_type": "markdown",
   "metadata": {},
   "source": [
    "## Import dataset"
   ]
  },
  {
   "cell_type": "code",
   "execution_count": 2,
   "metadata": {},
   "outputs": [
    {
     "data": {
      "text/plain": [
       "pandas.core.frame.DataFrame"
      ]
     },
     "execution_count": 2,
     "metadata": {},
     "output_type": "execute_result"
    }
   ],
   "source": [
    "dataset = joblib.load('../features/all_features.sav')\n",
    "type(dataset)"
   ]
  },
  {
   "attachments": {},
   "cell_type": "markdown",
   "metadata": {},
   "source": [
    "# Exploratory Data Analysis"
   ]
  },
  {
   "cell_type": "code",
   "execution_count": 3,
   "metadata": {},
   "outputs": [
    {
     "data": {
      "text/html": [
       "<div>\n",
       "<style scoped>\n",
       "    .dataframe tbody tr th:only-of-type {\n",
       "        vertical-align: middle;\n",
       "    }\n",
       "\n",
       "    .dataframe tbody tr th {\n",
       "        vertical-align: top;\n",
       "    }\n",
       "\n",
       "    .dataframe thead th {\n",
       "        text-align: right;\n",
       "    }\n",
       "</style>\n",
       "<table border=\"1\" class=\"dataframe\">\n",
       "  <thead>\n",
       "    <tr style=\"text-align: right;\">\n",
       "      <th></th>\n",
       "      <th>Fp1_100ms_1KHz</th>\n",
       "      <th>Fp1_200ms_1KHz</th>\n",
       "      <th>Fp1_300ms_1KHz</th>\n",
       "      <th>Fp1_400ms_1KHz</th>\n",
       "      <th>Fp1_450ms_1KHz</th>\n",
       "      <th>Fp2_100ms_1KHz</th>\n",
       "      <th>Fp2_200ms_1KHz</th>\n",
       "      <th>Fp2_300ms_1KHz</th>\n",
       "      <th>Fp2_400ms_1KHz</th>\n",
       "      <th>Fp2_450ms_1KHz</th>\n",
       "      <th>...</th>\n",
       "      <th>centralEntropy(rest1)</th>\n",
       "      <th>centralEntropy(arith)</th>\n",
       "      <th>centralEntropy(rest2)</th>\n",
       "      <th>temporalEntropy(rest1)</th>\n",
       "      <th>temporalEntropy(arith)</th>\n",
       "      <th>temporalEntropy(rest2)</th>\n",
       "      <th>occipitalEntropy(rest1)</th>\n",
       "      <th>occipitalEntropy(arith)</th>\n",
       "      <th>occipitalEntropy(rest2)</th>\n",
       "      <th>category</th>\n",
       "    </tr>\n",
       "  </thead>\n",
       "  <tbody>\n",
       "    <tr>\n",
       "      <th>0</th>\n",
       "      <td>0.077860</td>\n",
       "      <td>-0.182622</td>\n",
       "      <td>0.279247</td>\n",
       "      <td>0.532200</td>\n",
       "      <td>-0.204365</td>\n",
       "      <td>0.250417</td>\n",
       "      <td>-0.064930</td>\n",
       "      <td>-0.427962</td>\n",
       "      <td>-0.472420</td>\n",
       "      <td>0.012483</td>\n",
       "      <td>...</td>\n",
       "      <td>4.809451</td>\n",
       "      <td>5.332050</td>\n",
       "      <td>4.091032</td>\n",
       "      <td>3.945999</td>\n",
       "      <td>7.283139</td>\n",
       "      <td>6.148835</td>\n",
       "      <td>3.456758</td>\n",
       "      <td>6.826992</td>\n",
       "      <td>5.377234</td>\n",
       "      <td>Patient</td>\n",
       "    </tr>\n",
       "    <tr>\n",
       "      <th>1</th>\n",
       "      <td>0.771830</td>\n",
       "      <td>0.206960</td>\n",
       "      <td>-0.262004</td>\n",
       "      <td>0.052639</td>\n",
       "      <td>-0.076961</td>\n",
       "      <td>-0.243638</td>\n",
       "      <td>0.362590</td>\n",
       "      <td>0.186396</td>\n",
       "      <td>-0.309906</td>\n",
       "      <td>-0.096431</td>\n",
       "      <td>...</td>\n",
       "      <td>3.839269</td>\n",
       "      <td>5.369243</td>\n",
       "      <td>4.069415</td>\n",
       "      <td>4.937621</td>\n",
       "      <td>6.763848</td>\n",
       "      <td>6.930828</td>\n",
       "      <td>4.794076</td>\n",
       "      <td>6.667069</td>\n",
       "      <td>5.826653</td>\n",
       "      <td>Patient</td>\n",
       "    </tr>\n",
       "    <tr>\n",
       "      <th>2</th>\n",
       "      <td>0.586741</td>\n",
       "      <td>-0.170640</td>\n",
       "      <td>-0.447587</td>\n",
       "      <td>-0.586851</td>\n",
       "      <td>-0.381786</td>\n",
       "      <td>-0.296674</td>\n",
       "      <td>0.182709</td>\n",
       "      <td>0.486881</td>\n",
       "      <td>0.388464</td>\n",
       "      <td>0.047760</td>\n",
       "      <td>...</td>\n",
       "      <td>4.763656</td>\n",
       "      <td>5.216139</td>\n",
       "      <td>4.599104</td>\n",
       "      <td>5.372436</td>\n",
       "      <td>5.346930</td>\n",
       "      <td>4.132445</td>\n",
       "      <td>4.890854</td>\n",
       "      <td>5.269775</td>\n",
       "      <td>4.451813</td>\n",
       "      <td>Control</td>\n",
       "    </tr>\n",
       "    <tr>\n",
       "      <th>3</th>\n",
       "      <td>0.406416</td>\n",
       "      <td>-0.055197</td>\n",
       "      <td>0.553940</td>\n",
       "      <td>0.478676</td>\n",
       "      <td>-0.329155</td>\n",
       "      <td>0.078385</td>\n",
       "      <td>-0.046267</td>\n",
       "      <td>-0.688571</td>\n",
       "      <td>-0.429975</td>\n",
       "      <td>-0.139107</td>\n",
       "      <td>...</td>\n",
       "      <td>4.242247</td>\n",
       "      <td>4.865794</td>\n",
       "      <td>4.172947</td>\n",
       "      <td>4.146636</td>\n",
       "      <td>5.137967</td>\n",
       "      <td>4.114244</td>\n",
       "      <td>3.833269</td>\n",
       "      <td>5.130625</td>\n",
       "      <td>4.248905</td>\n",
       "      <td>Control</td>\n",
       "    </tr>\n",
       "    <tr>\n",
       "      <th>4</th>\n",
       "      <td>-0.716653</td>\n",
       "      <td>0.162533</td>\n",
       "      <td>0.245087</td>\n",
       "      <td>0.260570</td>\n",
       "      <td>0.948333</td>\n",
       "      <td>0.447810</td>\n",
       "      <td>-0.711307</td>\n",
       "      <td>-0.258017</td>\n",
       "      <td>-0.445835</td>\n",
       "      <td>-0.478240</td>\n",
       "      <td>...</td>\n",
       "      <td>2.855066</td>\n",
       "      <td>3.324150</td>\n",
       "      <td>2.402615</td>\n",
       "      <td>3.409738</td>\n",
       "      <td>3.626762</td>\n",
       "      <td>1.482925</td>\n",
       "      <td>2.891582</td>\n",
       "      <td>3.512754</td>\n",
       "      <td>2.293883</td>\n",
       "      <td>Control</td>\n",
       "    </tr>\n",
       "  </tbody>\n",
       "</table>\n",
       "<p>5 rows × 321 columns</p>\n",
       "</div>"
      ],
      "text/plain": [
       "   Fp1_100ms_1KHz  Fp1_200ms_1KHz  Fp1_300ms_1KHz  Fp1_400ms_1KHz  \\\n",
       "0        0.077860       -0.182622        0.279247        0.532200   \n",
       "1        0.771830        0.206960       -0.262004        0.052639   \n",
       "2        0.586741       -0.170640       -0.447587       -0.586851   \n",
       "3        0.406416       -0.055197        0.553940        0.478676   \n",
       "4       -0.716653        0.162533        0.245087        0.260570   \n",
       "\n",
       "   Fp1_450ms_1KHz  Fp2_100ms_1KHz  Fp2_200ms_1KHz  Fp2_300ms_1KHz  \\\n",
       "0       -0.204365        0.250417       -0.064930       -0.427962   \n",
       "1       -0.076961       -0.243638        0.362590        0.186396   \n",
       "2       -0.381786       -0.296674        0.182709        0.486881   \n",
       "3       -0.329155        0.078385       -0.046267       -0.688571   \n",
       "4        0.948333        0.447810       -0.711307       -0.258017   \n",
       "\n",
       "   Fp2_400ms_1KHz  Fp2_450ms_1KHz  ...  centralEntropy(rest1)  \\\n",
       "0       -0.472420        0.012483  ...               4.809451   \n",
       "1       -0.309906       -0.096431  ...               3.839269   \n",
       "2        0.388464        0.047760  ...               4.763656   \n",
       "3       -0.429975       -0.139107  ...               4.242247   \n",
       "4       -0.445835       -0.478240  ...               2.855066   \n",
       "\n",
       "   centralEntropy(arith)  centralEntropy(rest2)  temporalEntropy(rest1)  \\\n",
       "0               5.332050               4.091032                3.945999   \n",
       "1               5.369243               4.069415                4.937621   \n",
       "2               5.216139               4.599104                5.372436   \n",
       "3               4.865794               4.172947                4.146636   \n",
       "4               3.324150               2.402615                3.409738   \n",
       "\n",
       "   temporalEntropy(arith)  temporalEntropy(rest2)  occipitalEntropy(rest1)  \\\n",
       "0                7.283139                6.148835                 3.456758   \n",
       "1                6.763848                6.930828                 4.794076   \n",
       "2                5.346930                4.132445                 4.890854   \n",
       "3                5.137967                4.114244                 3.833269   \n",
       "4                3.626762                1.482925                 2.891582   \n",
       "\n",
       "   occipitalEntropy(arith)  occipitalEntropy(rest2)  category  \n",
       "0                 6.826992                 5.377234   Patient  \n",
       "1                 6.667069                 5.826653   Patient  \n",
       "2                 5.269775                 4.451813   Control  \n",
       "3                 5.130625                 4.248905   Control  \n",
       "4                 3.512754                 2.293883   Control  \n",
       "\n",
       "[5 rows x 321 columns]"
      ]
     },
     "execution_count": 3,
     "metadata": {},
     "output_type": "execute_result"
    }
   ],
   "source": [
    "dataset.head()"
   ]
  },
  {
   "cell_type": "code",
   "execution_count": 4,
   "metadata": {},
   "outputs": [
    {
     "data": {
      "text/html": [
       "<div>\n",
       "<style scoped>\n",
       "    .dataframe tbody tr th:only-of-type {\n",
       "        vertical-align: middle;\n",
       "    }\n",
       "\n",
       "    .dataframe tbody tr th {\n",
       "        vertical-align: top;\n",
       "    }\n",
       "\n",
       "    .dataframe thead th {\n",
       "        text-align: right;\n",
       "    }\n",
       "</style>\n",
       "<table border=\"1\" class=\"dataframe\">\n",
       "  <thead>\n",
       "    <tr style=\"text-align: right;\">\n",
       "      <th></th>\n",
       "      <th>Fp1_100ms_1KHz</th>\n",
       "      <th>Fp1_200ms_1KHz</th>\n",
       "      <th>Fp1_300ms_1KHz</th>\n",
       "      <th>Fp1_400ms_1KHz</th>\n",
       "      <th>Fp1_450ms_1KHz</th>\n",
       "      <th>Fp2_100ms_1KHz</th>\n",
       "      <th>Fp2_200ms_1KHz</th>\n",
       "      <th>Fp2_300ms_1KHz</th>\n",
       "      <th>Fp2_400ms_1KHz</th>\n",
       "      <th>Fp2_450ms_1KHz</th>\n",
       "      <th>...</th>\n",
       "      <th>parietalEntropy(rest2)</th>\n",
       "      <th>centralEntropy(rest1)</th>\n",
       "      <th>centralEntropy(arith)</th>\n",
       "      <th>centralEntropy(rest2)</th>\n",
       "      <th>temporalEntropy(rest1)</th>\n",
       "      <th>temporalEntropy(arith)</th>\n",
       "      <th>temporalEntropy(rest2)</th>\n",
       "      <th>occipitalEntropy(rest1)</th>\n",
       "      <th>occipitalEntropy(arith)</th>\n",
       "      <th>occipitalEntropy(rest2)</th>\n",
       "    </tr>\n",
       "  </thead>\n",
       "  <tbody>\n",
       "    <tr>\n",
       "      <th>count</th>\n",
       "      <td>45.000000</td>\n",
       "      <td>45.000000</td>\n",
       "      <td>45.000000</td>\n",
       "      <td>45.000000</td>\n",
       "      <td>45.000000</td>\n",
       "      <td>45.000000</td>\n",
       "      <td>45.000000</td>\n",
       "      <td>45.000000</td>\n",
       "      <td>45.000000</td>\n",
       "      <td>45.000000</td>\n",
       "      <td>...</td>\n",
       "      <td>45.000000</td>\n",
       "      <td>45.000000</td>\n",
       "      <td>45.000000</td>\n",
       "      <td>45.000000</td>\n",
       "      <td>45.000000</td>\n",
       "      <td>45.000000</td>\n",
       "      <td>45.000000</td>\n",
       "      <td>45.000000</td>\n",
       "      <td>45.000000</td>\n",
       "      <td>45.000000</td>\n",
       "    </tr>\n",
       "    <tr>\n",
       "      <th>mean</th>\n",
       "      <td>0.115363</td>\n",
       "      <td>-0.051501</td>\n",
       "      <td>0.076797</td>\n",
       "      <td>0.058663</td>\n",
       "      <td>-0.103720</td>\n",
       "      <td>0.001778</td>\n",
       "      <td>-0.001258</td>\n",
       "      <td>-0.042371</td>\n",
       "      <td>-0.051057</td>\n",
       "      <td>-0.013854</td>\n",
       "      <td>...</td>\n",
       "      <td>4.851188</td>\n",
       "      <td>4.481702</td>\n",
       "      <td>5.774285</td>\n",
       "      <td>4.587774</td>\n",
       "      <td>4.689325</td>\n",
       "      <td>6.580613</td>\n",
       "      <td>4.880317</td>\n",
       "      <td>4.540303</td>\n",
       "      <td>6.134899</td>\n",
       "      <td>4.801926</td>\n",
       "    </tr>\n",
       "    <tr>\n",
       "      <th>std</th>\n",
       "      <td>0.503851</td>\n",
       "      <td>0.344380</td>\n",
       "      <td>0.334743</td>\n",
       "      <td>0.432359</td>\n",
       "      <td>0.464893</td>\n",
       "      <td>0.441086</td>\n",
       "      <td>0.347603</td>\n",
       "      <td>0.416247</td>\n",
       "      <td>0.465245</td>\n",
       "      <td>0.490661</td>\n",
       "      <td>...</td>\n",
       "      <td>1.785314</td>\n",
       "      <td>1.587790</td>\n",
       "      <td>1.889525</td>\n",
       "      <td>1.715760</td>\n",
       "      <td>1.433597</td>\n",
       "      <td>2.037625</td>\n",
       "      <td>1.696056</td>\n",
       "      <td>1.529989</td>\n",
       "      <td>2.073115</td>\n",
       "      <td>1.661780</td>\n",
       "    </tr>\n",
       "    <tr>\n",
       "      <th>min</th>\n",
       "      <td>-0.815991</td>\n",
       "      <td>-0.671149</td>\n",
       "      <td>-0.685429</td>\n",
       "      <td>-0.885361</td>\n",
       "      <td>-0.812857</td>\n",
       "      <td>-0.803061</td>\n",
       "      <td>-0.773213</td>\n",
       "      <td>-0.714578</td>\n",
       "      <td>-0.845384</td>\n",
       "      <td>-0.860885</td>\n",
       "      <td>...</td>\n",
       "      <td>2.128722</td>\n",
       "      <td>1.975982</td>\n",
       "      <td>2.129566</td>\n",
       "      <td>1.621041</td>\n",
       "      <td>1.374844</td>\n",
       "      <td>2.904443</td>\n",
       "      <td>1.482925</td>\n",
       "      <td>1.997057</td>\n",
       "      <td>1.996069</td>\n",
       "      <td>1.937450</td>\n",
       "    </tr>\n",
       "    <tr>\n",
       "      <th>25%</th>\n",
       "      <td>-0.317453</td>\n",
       "      <td>-0.280111</td>\n",
       "      <td>-0.163746</td>\n",
       "      <td>-0.216385</td>\n",
       "      <td>-0.447365</td>\n",
       "      <td>-0.340735</td>\n",
       "      <td>-0.168995</td>\n",
       "      <td>-0.358391</td>\n",
       "      <td>-0.433019</td>\n",
       "      <td>-0.390993</td>\n",
       "      <td>...</td>\n",
       "      <td>3.137426</td>\n",
       "      <td>3.286599</td>\n",
       "      <td>3.852164</td>\n",
       "      <td>3.063503</td>\n",
       "      <td>3.898383</td>\n",
       "      <td>4.990185</td>\n",
       "      <td>3.701527</td>\n",
       "      <td>3.380543</td>\n",
       "      <td>4.054229</td>\n",
       "      <td>3.424172</td>\n",
       "    </tr>\n",
       "    <tr>\n",
       "      <th>50%</th>\n",
       "      <td>0.240041</td>\n",
       "      <td>-0.062094</td>\n",
       "      <td>0.151691</td>\n",
       "      <td>0.052639</td>\n",
       "      <td>-0.112249</td>\n",
       "      <td>-0.027864</td>\n",
       "      <td>0.025479</td>\n",
       "      <td>-0.070448</td>\n",
       "      <td>-0.127707</td>\n",
       "      <td>-0.096431</td>\n",
       "      <td>...</td>\n",
       "      <td>5.009800</td>\n",
       "      <td>4.251184</td>\n",
       "      <td>5.991856</td>\n",
       "      <td>4.599104</td>\n",
       "      <td>4.737698</td>\n",
       "      <td>7.003274</td>\n",
       "      <td>5.023968</td>\n",
       "      <td>4.555083</td>\n",
       "      <td>6.500328</td>\n",
       "      <td>5.011879</td>\n",
       "    </tr>\n",
       "    <tr>\n",
       "      <th>75%</th>\n",
       "      <td>0.577841</td>\n",
       "      <td>0.213785</td>\n",
       "      <td>0.290899</td>\n",
       "      <td>0.349477</td>\n",
       "      <td>0.101267</td>\n",
       "      <td>0.311511</td>\n",
       "      <td>0.220466</td>\n",
       "      <td>0.324228</td>\n",
       "      <td>0.387438</td>\n",
       "      <td>0.507937</td>\n",
       "      <td>...</td>\n",
       "      <td>5.650391</td>\n",
       "      <td>5.464230</td>\n",
       "      <td>7.407162</td>\n",
       "      <td>5.371057</td>\n",
       "      <td>5.953930</td>\n",
       "      <td>8.049676</td>\n",
       "      <td>6.076505</td>\n",
       "      <td>5.641581</td>\n",
       "      <td>8.160295</td>\n",
       "      <td>5.826653</td>\n",
       "    </tr>\n",
       "    <tr>\n",
       "      <th>max</th>\n",
       "      <td>0.771830</td>\n",
       "      <td>0.681047</td>\n",
       "      <td>0.709743</td>\n",
       "      <td>0.817380</td>\n",
       "      <td>0.948333</td>\n",
       "      <td>0.831922</td>\n",
       "      <td>0.724213</td>\n",
       "      <td>0.773255</td>\n",
       "      <td>0.750365</td>\n",
       "      <td>0.822368</td>\n",
       "      <td>...</td>\n",
       "      <td>9.572494</td>\n",
       "      <td>9.141592</td>\n",
       "      <td>8.847224</td>\n",
       "      <td>8.996514</td>\n",
       "      <td>7.846541</td>\n",
       "      <td>10.523407</td>\n",
       "      <td>8.577266</td>\n",
       "      <td>7.895410</td>\n",
       "      <td>9.202006</td>\n",
       "      <td>7.841864</td>\n",
       "    </tr>\n",
       "  </tbody>\n",
       "</table>\n",
       "<p>8 rows × 319 columns</p>\n",
       "</div>"
      ],
      "text/plain": [
       "       Fp1_100ms_1KHz  Fp1_200ms_1KHz  Fp1_300ms_1KHz  Fp1_400ms_1KHz  \\\n",
       "count       45.000000       45.000000       45.000000       45.000000   \n",
       "mean         0.115363       -0.051501        0.076797        0.058663   \n",
       "std          0.503851        0.344380        0.334743        0.432359   \n",
       "min         -0.815991       -0.671149       -0.685429       -0.885361   \n",
       "25%         -0.317453       -0.280111       -0.163746       -0.216385   \n",
       "50%          0.240041       -0.062094        0.151691        0.052639   \n",
       "75%          0.577841        0.213785        0.290899        0.349477   \n",
       "max          0.771830        0.681047        0.709743        0.817380   \n",
       "\n",
       "       Fp1_450ms_1KHz  Fp2_100ms_1KHz  Fp2_200ms_1KHz  Fp2_300ms_1KHz  \\\n",
       "count       45.000000       45.000000       45.000000       45.000000   \n",
       "mean        -0.103720        0.001778       -0.001258       -0.042371   \n",
       "std          0.464893        0.441086        0.347603        0.416247   \n",
       "min         -0.812857       -0.803061       -0.773213       -0.714578   \n",
       "25%         -0.447365       -0.340735       -0.168995       -0.358391   \n",
       "50%         -0.112249       -0.027864        0.025479       -0.070448   \n",
       "75%          0.101267        0.311511        0.220466        0.324228   \n",
       "max          0.948333        0.831922        0.724213        0.773255   \n",
       "\n",
       "       Fp2_400ms_1KHz  Fp2_450ms_1KHz  ...  parietalEntropy(rest2)  \\\n",
       "count       45.000000       45.000000  ...               45.000000   \n",
       "mean        -0.051057       -0.013854  ...                4.851188   \n",
       "std          0.465245        0.490661  ...                1.785314   \n",
       "min         -0.845384       -0.860885  ...                2.128722   \n",
       "25%         -0.433019       -0.390993  ...                3.137426   \n",
       "50%         -0.127707       -0.096431  ...                5.009800   \n",
       "75%          0.387438        0.507937  ...                5.650391   \n",
       "max          0.750365        0.822368  ...                9.572494   \n",
       "\n",
       "       centralEntropy(rest1)  centralEntropy(arith)  centralEntropy(rest2)  \\\n",
       "count              45.000000              45.000000              45.000000   \n",
       "mean                4.481702               5.774285               4.587774   \n",
       "std                 1.587790               1.889525               1.715760   \n",
       "min                 1.975982               2.129566               1.621041   \n",
       "25%                 3.286599               3.852164               3.063503   \n",
       "50%                 4.251184               5.991856               4.599104   \n",
       "75%                 5.464230               7.407162               5.371057   \n",
       "max                 9.141592               8.847224               8.996514   \n",
       "\n",
       "       temporalEntropy(rest1)  temporalEntropy(arith)  temporalEntropy(rest2)  \\\n",
       "count               45.000000               45.000000               45.000000   \n",
       "mean                 4.689325                6.580613                4.880317   \n",
       "std                  1.433597                2.037625                1.696056   \n",
       "min                  1.374844                2.904443                1.482925   \n",
       "25%                  3.898383                4.990185                3.701527   \n",
       "50%                  4.737698                7.003274                5.023968   \n",
       "75%                  5.953930                8.049676                6.076505   \n",
       "max                  7.846541               10.523407                8.577266   \n",
       "\n",
       "       occipitalEntropy(rest1)  occipitalEntropy(arith)  \\\n",
       "count                45.000000                45.000000   \n",
       "mean                  4.540303                 6.134899   \n",
       "std                   1.529989                 2.073115   \n",
       "min                   1.997057                 1.996069   \n",
       "25%                   3.380543                 4.054229   \n",
       "50%                   4.555083                 6.500328   \n",
       "75%                   5.641581                 8.160295   \n",
       "max                   7.895410                 9.202006   \n",
       "\n",
       "       occipitalEntropy(rest2)  \n",
       "count                45.000000  \n",
       "mean                  4.801926  \n",
       "std                   1.661780  \n",
       "min                   1.937450  \n",
       "25%                   3.424172  \n",
       "50%                   5.011879  \n",
       "75%                   5.826653  \n",
       "max                   7.841864  \n",
       "\n",
       "[8 rows x 319 columns]"
      ]
     },
     "execution_count": 4,
     "metadata": {},
     "output_type": "execute_result"
    }
   ],
   "source": [
    "dataset.describe()"
   ]
  },
  {
   "cell_type": "code",
   "execution_count": 5,
   "metadata": {},
   "outputs": [
    {
     "data": {
      "text/plain": [
       "Index(['index', 'category'], dtype='object')"
      ]
     },
     "execution_count": 5,
     "metadata": {},
     "output_type": "execute_result"
    }
   ],
   "source": [
    "dataset.select_dtypes(include='object').columns"
   ]
  },
  {
   "cell_type": "code",
   "execution_count": 6,
   "metadata": {},
   "outputs": [
    {
     "data": {
      "text/plain": [
       "False"
      ]
     },
     "execution_count": 6,
     "metadata": {},
     "output_type": "execute_result"
    }
   ],
   "source": [
    "dataset.isnull().values.any()"
   ]
  },
  {
   "attachments": {},
   "cell_type": "markdown",
   "metadata": {},
   "source": [
    "## count plot"
   ]
  },
  {
   "cell_type": "code",
   "execution_count": 7,
   "metadata": {},
   "outputs": [
    {
     "data": {
      "text/plain": [
       "<Axes: xlabel='category', ylabel='count'>"
      ]
     },
     "execution_count": 7,
     "metadata": {},
     "output_type": "execute_result"
    },
    {
     "data": {
      "image/png": "[encoded data removed]",
      "text/plain": [
       "<Figure size 640x480 with 1 Axes>"
      ]
     },
     "metadata": {},
     "output_type": "display_data"
    }
   ],
   "source": [
    "sns.countplot(dataset,x='category')"
   ]
  },
  {
   "cell_type": "code",
   "execution_count": 8,
   "metadata": {},
   "outputs": [
    {
     "data": {
      "text/plain": [
       "category\n",
       "Control    26\n",
       "Patient    19\n",
       "dtype: int64"
      ]
     },
     "execution_count": 8,
     "metadata": {},
     "output_type": "execute_result"
    }
   ],
   "source": [
    "dataset.value_counts('category')"
   ]
  },
  {
   "attachments": {},
   "cell_type": "markdown",
   "metadata": {},
   "source": [
    "## Correlations"
   ]
  },
  {
   "cell_type": "code",
   "execution_count": 9,
   "metadata": {},
   "outputs": [],
   "source": [
    "dataset2 = dataset.drop(columns='category', inplace=False)"
   ]
  },
  {
   "cell_type": "code",
   "execution_count": 10,
   "metadata": {},
   "outputs": [
    {
     "data": {
      "text/plain": [
       "(45, 321)"
      ]
     },
     "execution_count": 10,
     "metadata": {},
     "output_type": "execute_result"
    }
   ],
   "source": [
    "dataset.shape"
   ]
  },
  {
   "cell_type": "code",
   "execution_count": 11,
   "metadata": {},
   "outputs": [
    {
     "data": {
      "text/plain": [
       "(45, 320)"
      ]
     },
     "execution_count": 11,
     "metadata": {},
     "output_type": "execute_result"
    }
   ],
   "source": [
    "dataset2.shape"
   ]
  },
  {
   "cell_type": "code",
   "execution_count": 12,
   "metadata": {},
   "outputs": [
    {
     "name": "stderr",
     "output_type": "stream",
     "text": [
      "/tmp/ipykernel_15701/304836857.py:1: FutureWarning: The default value of numeric_only in DataFrame.corrwith is deprecated. In a future version, it will default to False. Select only valid columns or specify the value of numeric_only to silence this warning.\n",
      "  features_correlation = dataset2.corrwith(dataset.category=='Patient',axis=0,drop=False,method='pearson')\n"
     ]
    }
   ],
   "source": [
    "features_correlation = dataset2.corrwith(dataset.category=='Patient',axis=0,drop=False,method='pearson')\n",
    "\n",
    "significant_features = abs(features_correlation)>=0.1\n",
    "\n",
    "features_correlation = features_correlation[significant_features.to_list()]"
   ]
  },
  {
   "cell_type": "code",
   "execution_count": 16,
   "metadata": {},
   "outputs": [
    {
     "data": {
      "text/plain": [
       "<matplotlib.lines.Line2D at 0x7fc2cd8965f0>"
      ]
     },
     "execution_count": 16,
     "metadata": {},
     "output_type": "execute_result"
    },
    {
     "data": {
      "image/png": "[encoded data removed]",
      "text/plain": [
       "<Figure size 2000x900 with 1 Axes>"
      ]
     },
     "metadata": {},
     "output_type": "display_data"
    }
   ],
   "source": [
    "abs(features_correlation).sort_values(ascending=False).plot.bar(\n",
    "    figsize=(20,9), title='Correlations of features with subject category', grid=True\n",
    ")\n",
    "plt.axhline(y=0.2, color='green', linestyle='-')\n",
    "plt.axhline(y=0.15, color='red', linestyle='-')"
   ]
  },
  {
   "attachments": {},
   "cell_type": "markdown",
   "metadata": {},
   "source": [
    "## Dataset splitting"
   ]
  },
  {
   "cell_type": "code",
   "execution_count": 23,
   "metadata": {},
   "outputs": [],
   "source": [
    "features_ofinterest = features_correlation.index.to_list()"
   ]
  },
  {
   "cell_type": "code",
   "execution_count": 75,
   "metadata": {},
   "outputs": [],
   "source": [
    "# X = dataset.drop(columns='category', inplace=False)[features_ofinterest].to_numpy()\n",
    "X = dataset.drop(columns='category', inplace=False).to_numpy()\n",
    "y = (dataset.category == 'Patient').astype(int).to_numpy()"
   ]
  },
  {
   "cell_type": "code",
   "execution_count": 76,
   "metadata": {},
   "outputs": [
    {
     "name": "stdout",
     "output_type": "stream",
     "text": [
      "(45, 320) (45,)\n"
     ]
    }
   ],
   "source": [
    "print(X.shape, y.shape)"
   ]
  },
  {
   "cell_type": "code",
   "execution_count": 77,
   "metadata": {},
   "outputs": [],
   "source": [
    "from sklearn.model_selection import train_test_split\n",
    "\n",
    "X_train, X_test, y_train, y_test = train_test_split(X,y,test_size=0.2,random_state=0)"
   ]
  },
  {
   "cell_type": "code",
   "execution_count": 78,
   "metadata": {},
   "outputs": [
    {
     "name": "stdout",
     "output_type": "stream",
     "text": [
      "(36, 320) (9, 320)\n",
      "(36,) (9,)\n"
     ]
    }
   ],
   "source": [
    "print(X_train.shape, X_test.shape)\n",
    "print(y_train.shape, y_test.shape)"
   ]
  },
  {
   "attachments": {},
   "cell_type": "markdown",
   "metadata": {},
   "source": [
    "# Modelling"
   ]
  },
  {
   "attachments": {},
   "cell_type": "markdown",
   "metadata": {},
   "source": [
    "## Classifiers"
   ]
  },
  {
   "cell_type": "code",
   "execution_count": 107,
   "metadata": {},
   "outputs": [],
   "source": [
    "classifiers_performance = pd.DataFrame(columns=['model','accuracy','precision','recall','f1'])"
   ]
  },
  {
   "attachments": {},
   "cell_type": "markdown",
   "metadata": {},
   "source": [
    "### Logistic Regression"
   ]
  },
  {
   "cell_type": "code",
   "execution_count": 108,
   "metadata": {},
   "outputs": [
    {
     "name": "stderr",
     "output_type": "stream",
     "text": [
      "/home/emmanuel/miniconda3/envs/neuroBCI/lib/python3.10/site-packages/sklearn/linear_model/_logistic.py:458: ConvergenceWarning: lbfgs failed to converge (status=1):\n",
      "STOP: TOTAL NO. of ITERATIONS REACHED LIMIT.\n",
      "\n",
      "Increase the number of iterations (max_iter) or scale the data as shown in:\n",
      "    https://scikit-learn.org/stable/modules/preprocessing.html\n",
      "Please also refer to the documentation for alternative solver options:\n",
      "    https://scikit-learn.org/stable/modules/linear_model.html#logistic-regression\n",
      "  n_iter_i = _check_optimize_result(\n",
      "/tmp/ipykernel_15701/3467148978.py:11: FutureWarning: The frame.append method is deprecated and will be removed from pandas in a future version. Use pandas.concat instead.\n",
      "  classifiers_performance = classifiers_performance.append({\n"
     ]
    }
   ],
   "source": [
    "from sklearn.linear_model import LogisticRegression\n",
    "\n",
    "log_clf = LogisticRegression(random_state=0)\n",
    "\n",
    "log_clf.fit(X_train,y_train)\n",
    "\n",
    "from sklearn.metrics import accuracy_score, f1_score, precision_score, recall_score, confusion_matrix\n",
    "\n",
    "y_pred = log_clf.predict(X_test)\n",
    "\n",
    "classifiers_performance = classifiers_performance.append({\n",
    "    'model':'Logistic Regression',\n",
    "    'accuracy':accuracy_score(y_test,y_pred),\n",
    "    'precision':precision_score(y_test,y_pred),\n",
    "    'recall':recall_score(y_test,y_pred),\n",
    "    'f1':f1_score(y_test,y_pred)\n",
    "},ignore_index=True)"
   ]
  },
  {
   "attachments": {},
   "cell_type": "markdown",
   "metadata": {},
   "source": [
    "### XGBoost"
   ]
  },
  {
   "cell_type": "code",
   "execution_count": 109,
   "metadata": {},
   "outputs": [
    {
     "name": "stderr",
     "output_type": "stream",
     "text": [
      "/tmp/ipykernel_15701/1868029232.py:11: FutureWarning: The frame.append method is deprecated and will be removed from pandas in a future version. Use pandas.concat instead.\n",
      "  classifiers_performance = classifiers_performance.append({\n"
     ]
    }
   ],
   "source": [
    "import xgboost as xgb\n",
    "\n",
    "xgb_clf = xgb.XGBClassifier(random_state=0)\n",
    "\n",
    "xgb_clf.fit(X_train,y_train)\n",
    "\n",
    "from sklearn.metrics import accuracy_score, f1_score, precision_score, recall_score, confusion_matrix\n",
    "\n",
    "y_pred = xgb_clf.predict(X_test)\n",
    "\n",
    "classifiers_performance = classifiers_performance.append({\n",
    "    'model':'xgboost',\n",
    "    'accuracy':accuracy_score(y_test,y_pred),\n",
    "    'precision':precision_score(y_test,y_pred),\n",
    "    'recall':recall_score(y_test,y_pred),\n",
    "    'f1':f1_score(y_test,y_pred)\n",
    "},ignore_index=True)"
   ]
  },
  {
   "attachments": {},
   "cell_type": "markdown",
   "metadata": {},
   "source": [
    "### Support Vector Machine"
   ]
  },
  {
   "cell_type": "code",
   "execution_count": 110,
   "metadata": {},
   "outputs": [
    {
     "name": "stderr",
     "output_type": "stream",
     "text": [
      "/tmp/ipykernel_15701/440306818.py:11: FutureWarning: The frame.append method is deprecated and will be removed from pandas in a future version. Use pandas.concat instead.\n",
      "  classifiers_performance = classifiers_performance.append({\n"
     ]
    }
   ],
   "source": [
    "from sklearn.svm import SVC\n",
    "\n",
    "svm_clf = SVC(random_state=0)\n",
    "\n",
    "svm_clf.fit(X_train,y_train)\n",
    "\n",
    "from sklearn.metrics import accuracy_score, f1_score, precision_score, recall_score, confusion_matrix\n",
    "\n",
    "y_pred = svm_clf.predict(X_test)\n",
    "\n",
    "classifiers_performance = classifiers_performance.append({\n",
    "    'model':'SVC',\n",
    "    'accuracy':accuracy_score(y_test,y_pred),\n",
    "    'precision':precision_score(y_test,y_pred),\n",
    "    'recall':recall_score(y_test,y_pred),\n",
    "    'f1':f1_score(y_test,y_pred)\n",
    "},ignore_index=True)\n"
   ]
  },
  {
   "cell_type": "code",
   "execution_count": 111,
   "metadata": {},
   "outputs": [
    {
     "data": {
      "text/html": [
       "<div>\n",
       "<style scoped>\n",
       "    .dataframe tbody tr th:only-of-type {\n",
       "        vertical-align: middle;\n",
       "    }\n",
       "\n",
       "    .dataframe tbody tr th {\n",
       "        vertical-align: top;\n",
       "    }\n",
       "\n",
       "    .dataframe thead th {\n",
       "        text-align: right;\n",
       "    }\n",
       "</style>\n",
       "<table border=\"1\" class=\"dataframe\">\n",
       "  <thead>\n",
       "    <tr style=\"text-align: right;\">\n",
       "      <th></th>\n",
       "      <th>model</th>\n",
       "      <th>accuracy</th>\n",
       "      <th>precision</th>\n",
       "      <th>recall</th>\n",
       "      <th>f1</th>\n",
       "    </tr>\n",
       "  </thead>\n",
       "  <tbody>\n",
       "    <tr>\n",
       "      <th>0</th>\n",
       "      <td>Logistic Regression</td>\n",
       "      <td>0.555556</td>\n",
       "      <td>0.50</td>\n",
       "      <td>0.50</td>\n",
       "      <td>0.50</td>\n",
       "    </tr>\n",
       "    <tr>\n",
       "      <th>1</th>\n",
       "      <td>xgboost</td>\n",
       "      <td>0.666667</td>\n",
       "      <td>1.00</td>\n",
       "      <td>0.25</td>\n",
       "      <td>0.40</td>\n",
       "    </tr>\n",
       "    <tr>\n",
       "      <th>2</th>\n",
       "      <td>SVC</td>\n",
       "      <td>0.777778</td>\n",
       "      <td>0.75</td>\n",
       "      <td>0.75</td>\n",
       "      <td>0.75</td>\n",
       "    </tr>\n",
       "  </tbody>\n",
       "</table>\n",
       "</div>"
      ],
      "text/plain": [
       "                 model  accuracy  precision  recall    f1\n",
       "0  Logistic Regression  0.555556       0.50    0.50  0.50\n",
       "1              xgboost  0.666667       1.00    0.25  0.40\n",
       "2                  SVC  0.777778       0.75    0.75  0.75"
      ]
     },
     "execution_count": 111,
     "metadata": {},
     "output_type": "execute_result"
    }
   ],
   "source": [
    "classifiers_performance"
   ]
  },
  {
   "cell_type": "code",
   "execution_count": 112,
   "metadata": {},
   "outputs": [
    {
     "data": {
      "text/plain": [
       "array([[4, 1],\n",
       "       [1, 3]])"
      ]
     },
     "execution_count": 112,
     "metadata": {},
     "output_type": "execute_result"
    }
   ],
   "source": [
    "confusion_matrix(y_test,y_pred)"
   ]
  },
  {
   "attachments": {},
   "cell_type": "markdown",
   "metadata": {},
   "source": [
    "### Decision Tree"
   ]
  },
  {
   "cell_type": "code",
   "execution_count": 113,
   "metadata": {},
   "outputs": [
    {
     "name": "stderr",
     "output_type": "stream",
     "text": [
      "/tmp/ipykernel_15701/3393013052.py:11: FutureWarning: The frame.append method is deprecated and will be removed from pandas in a future version. Use pandas.concat instead.\n",
      "  classifiers_performance = classifiers_performance.append({\n"
     ]
    }
   ],
   "source": [
    "from sklearn.tree import DecisionTreeClassifier\n",
    "\n",
    "dec_clf = DecisionTreeClassifier(random_state=0)\n",
    "\n",
    "dec_clf.fit(X_train,y_train)\n",
    "\n",
    "from sklearn.metrics import accuracy_score, f1_score, precision_score, recall_score, confusion_matrix\n",
    "\n",
    "y_pred = dec_clf.predict(X_test)\n",
    "\n",
    "classifiers_performance = classifiers_performance.append({\n",
    "    'model':'Decision Tree',\n",
    "    'accuracy':accuracy_score(y_test,y_pred),\n",
    "    'precision':precision_score(y_test,y_pred),\n",
    "    'recall':recall_score(y_test,y_pred),\n",
    "    'f1':f1_score(y_test,y_pred)\n",
    "},ignore_index=True)"
   ]
  },
  {
   "cell_type": "code",
   "execution_count": 114,
   "metadata": {},
   "outputs": [
    {
     "data": {
      "text/html": [
       "<div>\n",
       "<style scoped>\n",
       "    .dataframe tbody tr th:only-of-type {\n",
       "        vertical-align: middle;\n",
       "    }\n",
       "\n",
       "    .dataframe tbody tr th {\n",
       "        vertical-align: top;\n",
       "    }\n",
       "\n",
       "    .dataframe thead th {\n",
       "        text-align: right;\n",
       "    }\n",
       "</style>\n",
       "<table border=\"1\" class=\"dataframe\">\n",
       "  <thead>\n",
       "    <tr style=\"text-align: right;\">\n",
       "      <th></th>\n",
       "      <th>model</th>\n",
       "      <th>accuracy</th>\n",
       "      <th>precision</th>\n",
       "      <th>recall</th>\n",
       "      <th>f1</th>\n",
       "    </tr>\n",
       "  </thead>\n",
       "  <tbody>\n",
       "    <tr>\n",
       "      <th>0</th>\n",
       "      <td>Logistic Regression</td>\n",
       "      <td>0.555556</td>\n",
       "      <td>0.500000</td>\n",
       "      <td>0.50</td>\n",
       "      <td>0.500000</td>\n",
       "    </tr>\n",
       "    <tr>\n",
       "      <th>1</th>\n",
       "      <td>xgboost</td>\n",
       "      <td>0.666667</td>\n",
       "      <td>1.000000</td>\n",
       "      <td>0.25</td>\n",
       "      <td>0.400000</td>\n",
       "    </tr>\n",
       "    <tr>\n",
       "      <th>2</th>\n",
       "      <td>SVC</td>\n",
       "      <td>0.777778</td>\n",
       "      <td>0.750000</td>\n",
       "      <td>0.75</td>\n",
       "      <td>0.750000</td>\n",
       "    </tr>\n",
       "    <tr>\n",
       "      <th>3</th>\n",
       "      <td>Decision Tree</td>\n",
       "      <td>0.666667</td>\n",
       "      <td>0.666667</td>\n",
       "      <td>0.50</td>\n",
       "      <td>0.571429</td>\n",
       "    </tr>\n",
       "  </tbody>\n",
       "</table>\n",
       "</div>"
      ],
      "text/plain": [
       "                 model  accuracy  precision  recall        f1\n",
       "0  Logistic Regression  0.555556   0.500000    0.50  0.500000\n",
       "1              xgboost  0.666667   1.000000    0.25  0.400000\n",
       "2                  SVC  0.777778   0.750000    0.75  0.750000\n",
       "3        Decision Tree  0.666667   0.666667    0.50  0.571429"
      ]
     },
     "execution_count": 114,
     "metadata": {},
     "output_type": "execute_result"
    }
   ],
   "source": [
    "classifiers_performance"
   ]
  },
  {
   "attachments": {},
   "cell_type": "markdown",
   "metadata": {},
   "source": [
    "### Random Forest"
   ]
  },
  {
   "cell_type": "code",
   "execution_count": 115,
   "metadata": {},
   "outputs": [
    {
     "name": "stderr",
     "output_type": "stream",
     "text": [
      "/tmp/ipykernel_15701/597713008.py:11: FutureWarning: The frame.append method is deprecated and will be removed from pandas in a future version. Use pandas.concat instead.\n",
      "  classifiers_performance = classifiers_performance.append({\n"
     ]
    }
   ],
   "source": [
    "from sklearn.ensemble import RandomForestClassifier\n",
    "\n",
    "rnd_clf = RandomForestClassifier(random_state=0)\n",
    "\n",
    "rnd_clf.fit(X_train,y_train)\n",
    "\n",
    "from sklearn.metrics import accuracy_score, f1_score, precision_score, recall_score, confusion_matrix\n",
    "\n",
    "y_pred = rnd_clf.predict(X_test)\n",
    "\n",
    "classifiers_performance = classifiers_performance.append({\n",
    "    'model':'Random Forest',\n",
    "    'accuracy':accuracy_score(y_test,y_pred),\n",
    "    'precision':precision_score(y_test,y_pred),\n",
    "    'recall':recall_score(y_test,y_pred),\n",
    "    'f1':f1_score(y_test,y_pred)\n",
    "},ignore_index=True)"
   ]
  },
  {
   "cell_type": "code",
   "execution_count": 116,
   "metadata": {},
   "outputs": [
    {
     "data": {
      "text/html": [
       "<div>\n",
       "<style scoped>\n",
       "    .dataframe tbody tr th:only-of-type {\n",
       "        vertical-align: middle;\n",
       "    }\n",
       "\n",
       "    .dataframe tbody tr th {\n",
       "        vertical-align: top;\n",
       "    }\n",
       "\n",
       "    .dataframe thead th {\n",
       "        text-align: right;\n",
       "    }\n",
       "</style>\n",
       "<table border=\"1\" class=\"dataframe\">\n",
       "  <thead>\n",
       "    <tr style=\"text-align: right;\">\n",
       "      <th></th>\n",
       "      <th>model</th>\n",
       "      <th>accuracy</th>\n",
       "      <th>precision</th>\n",
       "      <th>recall</th>\n",
       "      <th>f1</th>\n",
       "    </tr>\n",
       "  </thead>\n",
       "  <tbody>\n",
       "    <tr>\n",
       "      <th>0</th>\n",
       "      <td>Logistic Regression</td>\n",
       "      <td>0.555556</td>\n",
       "      <td>0.500000</td>\n",
       "      <td>0.50</td>\n",
       "      <td>0.500000</td>\n",
       "    </tr>\n",
       "    <tr>\n",
       "      <th>1</th>\n",
       "      <td>xgboost</td>\n",
       "      <td>0.666667</td>\n",
       "      <td>1.000000</td>\n",
       "      <td>0.25</td>\n",
       "      <td>0.400000</td>\n",
       "    </tr>\n",
       "    <tr>\n",
       "      <th>2</th>\n",
       "      <td>SVC</td>\n",
       "      <td>0.777778</td>\n",
       "      <td>0.750000</td>\n",
       "      <td>0.75</td>\n",
       "      <td>0.750000</td>\n",
       "    </tr>\n",
       "    <tr>\n",
       "      <th>3</th>\n",
       "      <td>Decision Tree</td>\n",
       "      <td>0.666667</td>\n",
       "      <td>0.666667</td>\n",
       "      <td>0.50</td>\n",
       "      <td>0.571429</td>\n",
       "    </tr>\n",
       "    <tr>\n",
       "      <th>4</th>\n",
       "      <td>Random Forest</td>\n",
       "      <td>0.444444</td>\n",
       "      <td>0.000000</td>\n",
       "      <td>0.00</td>\n",
       "      <td>0.000000</td>\n",
       "    </tr>\n",
       "  </tbody>\n",
       "</table>\n",
       "</div>"
      ],
      "text/plain": [
       "                 model  accuracy  precision  recall        f1\n",
       "0  Logistic Regression  0.555556   0.500000    0.50  0.500000\n",
       "1              xgboost  0.666667   1.000000    0.25  0.400000\n",
       "2                  SVC  0.777778   0.750000    0.75  0.750000\n",
       "3        Decision Tree  0.666667   0.666667    0.50  0.571429\n",
       "4        Random Forest  0.444444   0.000000    0.00  0.000000"
      ]
     },
     "execution_count": 116,
     "metadata": {},
     "output_type": "execute_result"
    }
   ],
   "source": [
    "classifiers_performance"
   ]
  },
  {
   "attachments": {},
   "cell_type": "markdown",
   "metadata": {},
   "source": [
    "### Naive Bayes"
   ]
  },
  {
   "cell_type": "code",
   "execution_count": 118,
   "metadata": {},
   "outputs": [
    {
     "name": "stderr",
     "output_type": "stream",
     "text": [
      "/tmp/ipykernel_15701/3625807522.py:11: FutureWarning: The frame.append method is deprecated and will be removed from pandas in a future version. Use pandas.concat instead.\n",
      "  classifiers_performance = classifiers_performance.append({\n"
     ]
    }
   ],
   "source": [
    "from sklearn.naive_bayes import GaussianNB\n",
    "\n",
    "nb_clf = GaussianNB()\n",
    "\n",
    "nb_clf.fit(X_train,y_train)\n",
    "\n",
    "from sklearn.metrics import accuracy_score, f1_score, precision_score, recall_score, confusion_matrix\n",
    "\n",
    "y_pred = nb_clf.predict(X_test)\n",
    "\n",
    "classifiers_performance = classifiers_performance.append({\n",
    "    'model':'Naive-Bayes',\n",
    "    'accuracy':accuracy_score(y_test,y_pred),\n",
    "    'precision':precision_score(y_test,y_pred),\n",
    "    'recall':recall_score(y_test,y_pred),\n",
    "    'f1':f1_score(y_test,y_pred)\n",
    "},ignore_index=True)"
   ]
  },
  {
   "cell_type": "code",
   "execution_count": 119,
   "metadata": {},
   "outputs": [
    {
     "data": {
      "text/html": [
       "<div>\n",
       "<style scoped>\n",
       "    .dataframe tbody tr th:only-of-type {\n",
       "        vertical-align: middle;\n",
       "    }\n",
       "\n",
       "    .dataframe tbody tr th {\n",
       "        vertical-align: top;\n",
       "    }\n",
       "\n",
       "    .dataframe thead th {\n",
       "        text-align: right;\n",
       "    }\n",
       "</style>\n",
       "<table border=\"1\" class=\"dataframe\">\n",
       "  <thead>\n",
       "    <tr style=\"text-align: right;\">\n",
       "      <th></th>\n",
       "      <th>model</th>\n",
       "      <th>accuracy</th>\n",
       "      <th>precision</th>\n",
       "      <th>recall</th>\n",
       "      <th>f1</th>\n",
       "    </tr>\n",
       "  </thead>\n",
       "  <tbody>\n",
       "    <tr>\n",
       "      <th>0</th>\n",
       "      <td>Logistic Regression</td>\n",
       "      <td>0.555556</td>\n",
       "      <td>0.500000</td>\n",
       "      <td>0.50</td>\n",
       "      <td>0.500000</td>\n",
       "    </tr>\n",
       "    <tr>\n",
       "      <th>1</th>\n",
       "      <td>xgboost</td>\n",
       "      <td>0.666667</td>\n",
       "      <td>1.000000</td>\n",
       "      <td>0.25</td>\n",
       "      <td>0.400000</td>\n",
       "    </tr>\n",
       "    <tr>\n",
       "      <th>2</th>\n",
       "      <td>SVC</td>\n",
       "      <td>0.777778</td>\n",
       "      <td>0.750000</td>\n",
       "      <td>0.75</td>\n",
       "      <td>0.750000</td>\n",
       "    </tr>\n",
       "    <tr>\n",
       "      <th>3</th>\n",
       "      <td>Decision Tree</td>\n",
       "      <td>0.666667</td>\n",
       "      <td>0.666667</td>\n",
       "      <td>0.50</td>\n",
       "      <td>0.571429</td>\n",
       "    </tr>\n",
       "    <tr>\n",
       "      <th>4</th>\n",
       "      <td>Random Forest</td>\n",
       "      <td>0.444444</td>\n",
       "      <td>0.000000</td>\n",
       "      <td>0.00</td>\n",
       "      <td>0.000000</td>\n",
       "    </tr>\n",
       "    <tr>\n",
       "      <th>5</th>\n",
       "      <td>Naive-Bayes</td>\n",
       "      <td>0.333333</td>\n",
       "      <td>0.000000</td>\n",
       "      <td>0.00</td>\n",
       "      <td>0.000000</td>\n",
       "    </tr>\n",
       "  </tbody>\n",
       "</table>\n",
       "</div>"
      ],
      "text/plain": [
       "                 model  accuracy  precision  recall        f1\n",
       "0  Logistic Regression  0.555556   0.500000    0.50  0.500000\n",
       "1              xgboost  0.666667   1.000000    0.25  0.400000\n",
       "2                  SVC  0.777778   0.750000    0.75  0.750000\n",
       "3        Decision Tree  0.666667   0.666667    0.50  0.571429\n",
       "4        Random Forest  0.444444   0.000000    0.00  0.000000\n",
       "5          Naive-Bayes  0.333333   0.000000    0.00  0.000000"
      ]
     },
     "execution_count": 119,
     "metadata": {},
     "output_type": "execute_result"
    }
   ],
   "source": [
    "classifiers_performance"
   ]
  },
  {
   "attachments": {},
   "cell_type": "markdown",
   "metadata": {},
   "source": [
    "### MLPN"
   ]
  },
  {
   "cell_type": "code",
   "execution_count": 183,
   "metadata": {},
   "outputs": [
    {
     "name": "stdout",
     "output_type": "stream",
     "text": [
      "Model: \"sequential_10\"\n",
      "_________________________________________________________________\n",
      " Layer (type)                Output Shape              Param #   \n",
      "=================================================================\n",
      " dense_40 (Dense)            (None, 64)                20544     \n",
      "                                                                 \n",
      " dense_41 (Dense)            (None, 32)                2080      \n",
      "                                                                 \n",
      " dense_42 (Dense)            (None, 16)                528       \n",
      "                                                                 \n",
      " dense_43 (Dense)            (None, 1)                 17        \n",
      "                                                                 \n",
      "=================================================================\n",
      "Total params: 23,169\n",
      "Trainable params: 23,169\n",
      "Non-trainable params: 0\n",
      "_________________________________________________________________\n"
     ]
    }
   ],
   "source": [
    "import tensorflow as tf\n",
    "from tensorflow.keras.models import Sequential\n",
    "from tensorflow.keras.layers import Dense\n",
    "from tensorflow.keras import initializers\n",
    "\n",
    "num_features = 320\n",
    "\n",
    "mlpn = Sequential()\n",
    "\n",
    "mlpn.add(Dense(64,activation='relu',input_shape=(num_features,)))\n",
    "mlpn.add(Dense(32, activation='relu'))\n",
    "mlpn.add(Dense(16, activation='relu'))\n",
    "mlpn.add(Dense(1, activation='sigmoid'))\n",
    "\n",
    "\n",
    "mlpn.compile(optimizer='adam', loss='binary_crossentropy',metrics=['accuracy'])\n",
    "\n",
    "mlpn.summary()\n"
   ]
  },
  {
   "cell_type": "code",
   "execution_count": 184,
   "metadata": {},
   "outputs": [
    {
     "name": "stdout",
     "output_type": "stream",
     "text": [
      "Epoch 1/10\n"
     ]
    },
    {
     "name": "stdout",
     "output_type": "stream",
     "text": [
      "9/9 [==============================] - 1s 16ms/step - loss: 0.8730 - accuracy: 0.5278 - val_loss: 0.9476 - val_accuracy: 0.2222\n",
      "Epoch 2/10\n",
      "9/9 [==============================] - 0s 4ms/step - loss: 0.6768 - accuracy: 0.6111 - val_loss: 0.8020 - val_accuracy: 0.5556\n",
      "Epoch 3/10\n",
      "9/9 [==============================] - 0s 4ms/step - loss: 0.4543 - accuracy: 0.7778 - val_loss: 0.7386 - val_accuracy: 0.5556\n",
      "Epoch 4/10\n",
      "9/9 [==============================] - 0s 4ms/step - loss: 0.4213 - accuracy: 0.8056 - val_loss: 0.8054 - val_accuracy: 0.5556\n",
      "Epoch 5/10\n",
      "9/9 [==============================] - 0s 4ms/step - loss: 0.3518 - accuracy: 0.8333 - val_loss: 0.8048 - val_accuracy: 0.4444\n",
      "Epoch 6/10\n",
      "9/9 [==============================] - 0s 4ms/step - loss: 0.3008 - accuracy: 0.9444 - val_loss: 0.9539 - val_accuracy: 0.5556\n",
      "Epoch 7/10\n",
      "9/9 [==============================] - 0s 5ms/step - loss: 0.2795 - accuracy: 0.8889 - val_loss: 0.9144 - val_accuracy: 0.4444\n",
      "Epoch 8/10\n",
      "9/9 [==============================] - 0s 5ms/step - loss: 0.2363 - accuracy: 0.9167 - val_loss: 0.9728 - val_accuracy: 0.4444\n",
      "1/1 [==============================] - 0s 18ms/step - loss: 0.7386 - accuracy: 0.5556\n",
      "Test loss: 0.7385815978050232\n",
      "Test Accuracy: 0.5555555820465088\n"
     ]
    }
   ],
   "source": [
    "from tensorflow.keras.callbacks import EarlyStopping\n",
    "\n",
    "early_stopping = EarlyStopping(monitor='val_loss', patience=5, restore_best_weights=True)\n",
    "\n",
    "mlpn.fit(\n",
    "    tf.convert_to_tensor(X_train.astype('float')),\n",
    "    tf.convert_to_tensor(y_train.astype('float')),\n",
    "    epochs = 10, batch_size = 4,\n",
    "    validation_data = (\n",
    "        tf.convert_to_tensor(X_test.astype('float')),\n",
    "        tf.convert_to_tensor(y_test.astype('float'))\n",
    "    ),\n",
    "    callbacks = [early_stopping],\n",
    ")\n",
    "\n",
    "loss, accuracy = mlpn.evaluate(\n",
    "    tf.convert_to_tensor(X_test.astype('float')),\n",
    "    tf.convert_to_tensor(y_test.astype('float'))\n",
    ")\n",
    "\n",
    "print(\"Test loss: {loss}\".format(loss=loss))\n",
    "print(\"Test Accuracy: {accuracy}\".format(accuracy=accuracy))"
   ]
  },
  {
   "cell_type": "code",
   "execution_count": 178,
   "metadata": {},
   "outputs": [],
   "source": [
    "# mlpn.save('../models/mlpn.h5')"
   ]
  },
  {
   "cell_type": "code",
   "execution_count": 195,
   "metadata": {},
   "outputs": [
    {
     "name": "stdout",
     "output_type": "stream",
     "text": [
      "1/1 [==============================] - 0s 45ms/step\n"
     ]
    },
    {
     "name": "stderr",
     "output_type": "stream",
     "text": [
      "/tmp/ipykernel_15701/2819106068.py:6: FutureWarning: The frame.append method is deprecated and will be removed from pandas in a future version. Use pandas.concat instead.\n",
      "  classifiers_performance = classifiers_performance.append({\n"
     ]
    }
   ],
   "source": [
    "saved_mlpn = tf.keras.models.load_model('../models/mlpn.h5')\n",
    "\n",
    "y_pred = saved_mlpn.predict(tf.convert_to_tensor(X_test.astype(float))).flatten()\n",
    "y_pred = (y_pred>=0.5).astype('int')\n",
    "\n",
    "classifiers_performance = classifiers_performance.append({\n",
    "    'model':'MLPN',\n",
    "    'accuracy':accuracy_score(y_test,y_pred),\n",
    "    'precision':precision_score(y_test,y_pred),\n",
    "    'recall':recall_score(y_test,y_pred),\n",
    "    'f1':f1_score(y_test,y_pred)\n",
    "},ignore_index=True)"
   ]
  },
  {
   "cell_type": "code",
   "execution_count": 196,
   "metadata": {},
   "outputs": [
    {
     "data": {
      "text/html": [
       "<div>\n",
       "<style scoped>\n",
       "    .dataframe tbody tr th:only-of-type {\n",
       "        vertical-align: middle;\n",
       "    }\n",
       "\n",
       "    .dataframe tbody tr th {\n",
       "        vertical-align: top;\n",
       "    }\n",
       "\n",
       "    .dataframe thead th {\n",
       "        text-align: right;\n",
       "    }\n",
       "</style>\n",
       "<table border=\"1\" class=\"dataframe\">\n",
       "  <thead>\n",
       "    <tr style=\"text-align: right;\">\n",
       "      <th></th>\n",
       "      <th>model</th>\n",
       "      <th>accuracy</th>\n",
       "      <th>precision</th>\n",
       "      <th>recall</th>\n",
       "      <th>f1</th>\n",
       "    </tr>\n",
       "  </thead>\n",
       "  <tbody>\n",
       "    <tr>\n",
       "      <th>0</th>\n",
       "      <td>Logistic Regression</td>\n",
       "      <td>0.555556</td>\n",
       "      <td>0.500000</td>\n",
       "      <td>0.50</td>\n",
       "      <td>0.500000</td>\n",
       "    </tr>\n",
       "    <tr>\n",
       "      <th>1</th>\n",
       "      <td>xgboost</td>\n",
       "      <td>0.666667</td>\n",
       "      <td>1.000000</td>\n",
       "      <td>0.25</td>\n",
       "      <td>0.400000</td>\n",
       "    </tr>\n",
       "    <tr>\n",
       "      <th>2</th>\n",
       "      <td>SVC</td>\n",
       "      <td>0.777778</td>\n",
       "      <td>0.750000</td>\n",
       "      <td>0.75</td>\n",
       "      <td>0.750000</td>\n",
       "    </tr>\n",
       "    <tr>\n",
       "      <th>3</th>\n",
       "      <td>Decision Tree</td>\n",
       "      <td>0.666667</td>\n",
       "      <td>0.666667</td>\n",
       "      <td>0.50</td>\n",
       "      <td>0.571429</td>\n",
       "    </tr>\n",
       "    <tr>\n",
       "      <th>4</th>\n",
       "      <td>Random Forest</td>\n",
       "      <td>0.444444</td>\n",
       "      <td>0.000000</td>\n",
       "      <td>0.00</td>\n",
       "      <td>0.000000</td>\n",
       "    </tr>\n",
       "    <tr>\n",
       "      <th>5</th>\n",
       "      <td>Naive-Bayes</td>\n",
       "      <td>0.333333</td>\n",
       "      <td>0.000000</td>\n",
       "      <td>0.00</td>\n",
       "      <td>0.000000</td>\n",
       "    </tr>\n",
       "    <tr>\n",
       "      <th>6</th>\n",
       "      <td>MLPN</td>\n",
       "      <td>0.666667</td>\n",
       "      <td>0.666667</td>\n",
       "      <td>0.50</td>\n",
       "      <td>0.571429</td>\n",
       "    </tr>\n",
       "  </tbody>\n",
       "</table>\n",
       "</div>"
      ],
      "text/plain": [
       "                 model  accuracy  precision  recall        f1\n",
       "0  Logistic Regression  0.555556   0.500000    0.50  0.500000\n",
       "1              xgboost  0.666667   1.000000    0.25  0.400000\n",
       "2                  SVC  0.777778   0.750000    0.75  0.750000\n",
       "3        Decision Tree  0.666667   0.666667    0.50  0.571429\n",
       "4        Random Forest  0.444444   0.000000    0.00  0.000000\n",
       "5          Naive-Bayes  0.333333   0.000000    0.00  0.000000\n",
       "6                 MLPN  0.666667   0.666667    0.50  0.571429"
      ]
     },
     "execution_count": 196,
     "metadata": {},
     "output_type": "execute_result"
    }
   ],
   "source": [
    "classifiers_performance"
   ]
  },
  {
   "attachments": {},
   "cell_type": "markdown",
   "metadata": {},
   "source": [
    "### save current classifiers performance"
   ]
  },
  {
   "cell_type": "code",
   "execution_count": 197,
   "metadata": {},
   "outputs": [],
   "source": [
    "classifiers_performance.to_csv('../models/current_performance')"
   ]
  },
  {
   "cell_type": "code",
   "execution_count": 198,
   "metadata": {},
   "outputs": [
    {
     "data": {
      "text/html": [
       "<div>\n",
       "<style scoped>\n",
       "    .dataframe tbody tr th:only-of-type {\n",
       "        vertical-align: middle;\n",
       "    }\n",
       "\n",
       "    .dataframe tbody tr th {\n",
       "        vertical-align: top;\n",
       "    }\n",
       "\n",
       "    .dataframe thead th {\n",
       "        text-align: right;\n",
       "    }\n",
       "</style>\n",
       "<table border=\"1\" class=\"dataframe\">\n",
       "  <thead>\n",
       "    <tr style=\"text-align: right;\">\n",
       "      <th></th>\n",
       "      <th>model</th>\n",
       "      <th>accuracy</th>\n",
       "      <th>precision</th>\n",
       "      <th>recall</th>\n",
       "      <th>f1</th>\n",
       "    </tr>\n",
       "  </thead>\n",
       "  <tbody>\n",
       "    <tr>\n",
       "      <th>0</th>\n",
       "      <td>Logistic Regression</td>\n",
       "      <td>0.555556</td>\n",
       "      <td>0.500000</td>\n",
       "      <td>0.50</td>\n",
       "      <td>0.500000</td>\n",
       "    </tr>\n",
       "    <tr>\n",
       "      <th>1</th>\n",
       "      <td>xgboost</td>\n",
       "      <td>0.666667</td>\n",
       "      <td>1.000000</td>\n",
       "      <td>0.25</td>\n",
       "      <td>0.400000</td>\n",
       "    </tr>\n",
       "    <tr>\n",
       "      <th>2</th>\n",
       "      <td>SVC</td>\n",
       "      <td>0.777778</td>\n",
       "      <td>0.750000</td>\n",
       "      <td>0.75</td>\n",
       "      <td>0.750000</td>\n",
       "    </tr>\n",
       "    <tr>\n",
       "      <th>3</th>\n",
       "      <td>Decision Tree</td>\n",
       "      <td>0.666667</td>\n",
       "      <td>0.666667</td>\n",
       "      <td>0.50</td>\n",
       "      <td>0.571429</td>\n",
       "    </tr>\n",
       "    <tr>\n",
       "      <th>4</th>\n",
       "      <td>Random Forest</td>\n",
       "      <td>0.444444</td>\n",
       "      <td>0.000000</td>\n",
       "      <td>0.00</td>\n",
       "      <td>0.000000</td>\n",
       "    </tr>\n",
       "    <tr>\n",
       "      <th>5</th>\n",
       "      <td>Naive-Bayes</td>\n",
       "      <td>0.333333</td>\n",
       "      <td>0.000000</td>\n",
       "      <td>0.00</td>\n",
       "      <td>0.000000</td>\n",
       "    </tr>\n",
       "    <tr>\n",
       "      <th>6</th>\n",
       "      <td>MLPN</td>\n",
       "      <td>0.666667</td>\n",
       "      <td>0.666667</td>\n",
       "      <td>0.50</td>\n",
       "      <td>0.571429</td>\n",
       "    </tr>\n",
       "  </tbody>\n",
       "</table>\n",
       "</div>"
      ],
      "text/plain": [
       "                 model  accuracy  precision  recall        f1\n",
       "0  Logistic Regression  0.555556   0.500000    0.50  0.500000\n",
       "1              xgboost  0.666667   1.000000    0.25  0.400000\n",
       "2                  SVC  0.777778   0.750000    0.75  0.750000\n",
       "3        Decision Tree  0.666667   0.666667    0.50  0.571429\n",
       "4        Random Forest  0.444444   0.000000    0.00  0.000000\n",
       "5          Naive-Bayes  0.333333   0.000000    0.00  0.000000\n",
       "6                 MLPN  0.666667   0.666667    0.50  0.571429"
      ]
     },
     "execution_count": 198,
     "metadata": {},
     "output_type": "execute_result"
    }
   ],
   "source": [
    "classifiers_performance"
   ]
  },
  {
   "cell_type": "code",
   "execution_count": null,
   "metadata": {},
   "outputs": [],
   "source": []
  }
 ],
 "metadata": {
  "kernelspec": {
   "display_name": "neuroBCI",
   "language": "python",
   "name": "python3"
  },
  "language_info": {
   "codemirror_mode": {
    "name": "ipython",
    "version": 3
   },
   "file_extension": ".py",
   "mimetype": "text/x-python",
   "name": "python",
   "nbconvert_exporter": "python",
   "pygments_lexer": "ipython3",
   "version": "3.10.8"
  },
  "orig_nbformat": 4
 },
 "nbformat": 4,
 "nbformat_minor": 2
}

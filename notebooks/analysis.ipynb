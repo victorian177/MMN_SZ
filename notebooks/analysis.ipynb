{
 "cells": [
  {
   "cell_type": "code",
   "execution_count": 24,
   "metadata": {},
   "outputs": [
    {
     "data": {
      "text/plain": [
       "<module 'generisAPI.analysis' from '/media/emmanuel/DATA/Emmanuel_petron_Olateju/github/ubuntu/MMN_SZ/notebooks/generisAPI/analysis.py'>"
      ]
     },
     "execution_count": 24,
     "metadata": {},
     "output_type": "execute_result"
    }
   ],
   "source": [
    "# import modules\n",
    "\n",
    "import importlib\n",
    "import copy\n",
    "\n",
    "import math\n",
    "\n",
    "import numpy as np\n",
    "import pandas as pd\n",
    "import joblib\n",
    "import mne\n",
    "from math import *\n",
    "\n",
    "import matplotlib.pyplot as plt\n",
    "import seaborn as sns\n",
    "\n",
    "import generisAPI\n",
    "importlib.reload(generisAPI)\n",
    "\n",
    "import generisAPI.plots as plots\n",
    "importlib.reload(generisAPI.plots)\n",
    "\n",
    "import generisAPI.featuresExtraction as featuresMethods\n",
    "importlib.reload(generisAPI.featuresExtraction)\n",
    "\n",
    "import generisAPI.analysis as anls\n",
    "importlib.reload(generisAPI.analysis)"
   ]
  },
  {
   "cell_type": "code",
   "execution_count": 2,
   "metadata": {},
   "outputs": [],
   "source": [
    "#load features and make definitions\n",
    "\n",
    "electrodes=[\n",
    "    'Fp1','Fp2','F3','F4','C3',\n",
    "    'C4','P3','P4','O1','O2',\n",
    "    'F7','F8','T3','T4','T5',\n",
    "    'T6','FZ','PZ','CZ',\n",
    "    ]\n",
    "\n",
    "features = joblib.load('../features/MMN_hubFuzzyEntropy.sav')\n",
    "\n",
    "y = features['category']\n",
    "X_entropies = features.iloc[:,2:-1]\n",
    "mmn_feature_method_100ms = featuresMethods.MMN(19,19,19)\n",
    "mmn_feature_method_200ms= featuresMethods.MMN(19,38,19)\n",
    "mmn_feature_method_300ms = featuresMethods.MMN(19,57,19)\n",
    "mmn_feature_method_400ms = featuresMethods.MMN(19,66,19)\n",
    "mmn_feature_method_500ms = featuresMethods.MMN(19,85,19)\n",
    "oneKdeviant = list()\n",
    "threeKdeviant = list()\n",
    "for subject in features.index:\n",
    "    oneKdeviant.append([\n",
    "        mmn_feature_method_100ms.mmn_value(features.loc[subject,'MMN_1KHz']),\n",
    "        mmn_feature_method_200ms.mmn_value(features.loc[subject,'MMN_1KHz']),\n",
    "        mmn_feature_method_300ms.mmn_value(features.loc[subject,'MMN_1KHz']),\n",
    "        mmn_feature_method_400ms.mmn_value(features.loc[subject,'MMN_1KHz']),\n",
    "        mmn_feature_method_500ms.mmn_value(features.loc[subject,'MMN_1KHz']),\n",
    "        ])\n",
    "    threeKdeviant.append([\n",
    "        mmn_feature_method_100ms.mmn_value(features.loc[subject,'MMN_3KHz']),\n",
    "        mmn_feature_method_200ms.mmn_value(features.loc[subject,'MMN_3KHz']),\n",
    "        mmn_feature_method_300ms.mmn_value(features.loc[subject,'MMN_3KHz']),\n",
    "        mmn_feature_method_400ms.mmn_value(features.loc[subject,'MMN_3KHz']),\n",
    "        mmn_feature_method_500ms.mmn_value(features.loc[subject,'MMN_3KHz']),\n",
    "        ])\n",
    "X_mmn_1k = np.array(oneKdeviant)\n",
    "X_mmn_3k = np.array(threeKdeviant)\n",
    "\n",
    "del oneKdeviant,threeKdeviant\n",
    "\n",
    "patientsIndex = np.argwhere(np.array(features['category'] == 'Patient')==True).flatten()\n",
    "controlsIndex = np.argwhere(np.array(features['category'] == 'Control')==True).flatten()"
   ]
  },
  {
   "attachments": {},
   "cell_type": "markdown",
   "metadata": {},
   "source": [
    "#### MMN montage plots"
   ]
  },
  {
   "cell_type": "code",
   "execution_count": 13,
   "metadata": {},
   "outputs": [],
   "source": [
    "%%capture\n",
    "plt.ioff()\n",
    "fig,ax = plt.subplots(len(patientsIndex),5,figsize=(24,43))\n",
    "fig.suptitle('1000KHz duration deviant MMN montage for SZ patients',fontsize=20)\n",
    "for si,s in enumerate(patientsIndex):\n",
    "    for c in range(5):\n",
    "        plots.montage_plot(X_mmn_1k[s,c,:],electrodes,ax[si,c])\n",
    "        ax[si,c].set_aspect('auto')\n",
    "        if c==0:\n",
    "            ax[si,c].set_ylabel('Subject ' + str(features.index[s]))\n",
    "        ax[si,0].set_xlabel('0-100ms')\n",
    "        ax[si,1].set_xlabel('100-200ms')\n",
    "        ax[si,2].set_xlabel('200-300ms')\n",
    "        ax[si,3].set_xlabel('300-400ms')\n",
    "        ax[si,4].set_xlabel('400-450ms')\n",
    "fig.tight_layout()\n",
    "fig.subplots_adjust(top=0.97)\n",
    "plt.savefig('../data_analysis_results/MMN/montage/Patient/1KHz_duration_deviant_montage'+'.png',format='png')\n",
    "plt.close(fig)"
   ]
  },
  {
   "cell_type": "code",
   "execution_count": 14,
   "metadata": {},
   "outputs": [],
   "source": [
    "%%capture\n",
    "plt.ioff()\n",
    "fig,ax = plt.subplots(len(patientsIndex),5,figsize=(24,43))\n",
    "fig.suptitle('3000KHz frequency deviant MMN montage for SZ patients',fontsize=20)\n",
    "for si,s in enumerate(patientsIndex):\n",
    "    for c in range(5):\n",
    "        plots.montage_plot(X_mmn_3k[s,c,:],electrodes,ax[si,c])\n",
    "        ax[si,c].set_aspect('auto')\n",
    "        if c==0:\n",
    "            ax[si,c].set_ylabel('Subject ' + str(features.index[s]))\n",
    "        ax[si,0].set_xlabel('0-100ms')\n",
    "        ax[si,1].set_xlabel('100-200ms')\n",
    "        ax[si,2].set_xlabel('200-300ms')\n",
    "        ax[si,3].set_xlabel('300-400ms')\n",
    "        ax[si,4].set_xlabel('400-450ms')\n",
    "fig.tight_layout()\n",
    "fig.subplots_adjust(top=0.97)\n",
    "plt.savefig('../data_analysis_results/MMN/montage/Patient/3KHz_frequency_deviant_montage'+'.png',format='png')\n",
    "plt.close(fig)"
   ]
  },
  {
   "cell_type": "code",
   "execution_count": 15,
   "metadata": {},
   "outputs": [],
   "source": [
    "%%capture\n",
    "plt.ioff()\n",
    "fig,ax = plt.subplots(len(controlsIndex),5,figsize=(24,57))\n",
    "fig.suptitle('1000KHz duration deviant MMN montage for control subjects',fontsize=20)\n",
    "for si,s in enumerate(controlsIndex):\n",
    "    for c in range(5):\n",
    "        plots.montage_plot(X_mmn_1k[s,c,:],electrodes,ax[si,c])\n",
    "        ax[si,c].set_aspect('auto')\n",
    "        if c==0:\n",
    "            ax[si,c].set_ylabel('Subject ' + str(features.index[s]))\n",
    "        ax[si,0].set_xlabel('0-100ms')\n",
    "        ax[si,1].set_xlabel('100-200ms')\n",
    "        ax[si,2].set_xlabel('200-300ms')\n",
    "        ax[si,3].set_xlabel('300-400ms')\n",
    "        ax[si,4].set_xlabel('400-450ms')\n",
    "fig.tight_layout()\n",
    "fig.subplots_adjust(top=0.97)\n",
    "plt.savefig('../data_analysis_results/MMN/montage/Control/1KHz_duration_deviant_montage'+'.png',format='png')"
   ]
  },
  {
   "cell_type": "code",
   "execution_count": 16,
   "metadata": {},
   "outputs": [],
   "source": [
    "%%capture\n",
    "plt.ioff()\n",
    "fig,ax = plt.subplots(len(controlsIndex),5,figsize=(24,57))\n",
    "fig.suptitle('3000KHz frequency deviant MMN montage for control subjects',fontsize=20)\n",
    "for si,s in enumerate(controlsIndex):\n",
    "    for c in range(5):\n",
    "        plots.montage_plot(X_mmn_3k[s,c,:],electrodes,ax[si,c])\n",
    "        ax[si,c].set_aspect('auto')\n",
    "        if c==0:\n",
    "            ax[si,c].set_ylabel('Subject ' + str(features.index[s]))\n",
    "        ax[si,0].set_xlabel('0-100ms')\n",
    "        ax[si,1].set_xlabel('100-200ms')\n",
    "        ax[si,2].set_xlabel('200-300ms')\n",
    "        ax[si,3].set_xlabel('300-400ms')\n",
    "        ax[si,4].set_xlabel('400-450ms')\n",
    "fig.tight_layout()\n",
    "fig.subplots_adjust(top=0.97)\n",
    "plt.savefig('../data_analysis_results/MMN/montage/Control/3KHz_frequency_deviant_montage'+'.png',format='png')"
   ]
  },
  {
   "attachments": {},
   "cell_type": "markdown",
   "metadata": {},
   "source": [
    "#### fuzzyEntropy montage plots"
   ]
  },
  {
   "cell_type": "code",
   "execution_count": 9,
   "metadata": {},
   "outputs": [],
   "source": [
    "%%capture\n",
    "plt.ioff()\n",
    "fig,ax = plt.subplots(len(patientsIndex),4,figsize=(12,26))\n",
    "fig.suptitle('cortical regions fuzzy entropy montage for SZ patients',fontsize=20)\n",
    "for si,s in enumerate(patientsIndex):\n",
    "    rest1Entropies = np.array([X_entropies.iloc[s,0],X_entropies.iloc[s,4],X_entropies.iloc[s,8],X_entropies.iloc[s,12],X_entropies.iloc[s,12],X_entropies.iloc[s,16],])\n",
    "    arithEntropies = np.array([X_entropies.iloc[s,1],X_entropies.iloc[s,5],X_entropies.iloc[s,9],X_entropies.iloc[s,13],X_entropies.iloc[s,13],X_entropies.iloc[s,17],])\n",
    "    rest2Entropies = np.array([X_entropies.iloc[s,2],X_entropies.iloc[s,6],X_entropies.iloc[s,10],X_entropies.iloc[s,14],X_entropies.iloc[s,14],X_entropies.iloc[s,18],])\n",
    "    auditoryEntropies = np.array([X_entropies.iloc[s,3],X_entropies.iloc[s,7],X_entropies.iloc[s,11],X_entropies.iloc[s,15],X_entropies.iloc[s,15],X_entropies.iloc[s,19],])\n",
    "    plots.montage_plot(rest1Entropies,['FZ','PZ','CZ','T3','T4','OZ'],ax[si,0])\n",
    "    plots.montage_plot(arithEntropies,['FZ','PZ','CZ','T3','T4','OZ'],ax[si,1])\n",
    "    plots.montage_plot(rest2Entropies,['FZ','PZ','CZ','T3','T4','OZ'],ax[si,2])\n",
    "    plots.montage_plot(auditoryEntropies,['FZ','PZ','CZ','T3','T4','OZ'],ax[si,3])\n",
    "    ax[si,0].set_ylabel('Subject ' + str(features.index[s]))\n",
    "    ax[si,0].set_title('rest1')\n",
    "    ax[si,1].set_title('arithmetic')\n",
    "    ax[si,2].set_title('rest2')\n",
    "    ax[si,3].set_title('auditory')\n",
    "fig.tight_layout()\n",
    "fig.subplots_adjust(top=0.95)\n",
    "plt.savefig('../data_analysis_results/FuzzEnt/Patient/montage'+'.png',format='png')\n",
    "plt.close(fig)"
   ]
  },
  {
   "cell_type": "code",
   "execution_count": 11,
   "metadata": {},
   "outputs": [],
   "source": [
    "%%capture\n",
    "plt.ioff()\n",
    "fig,ax = plt.subplots(len(controlsIndex),4,figsize=(10,30))\n",
    "fig.suptitle('cortical regions fuzzy entropy montage for control subjects',fontsize=20)\n",
    "for si,s in enumerate(controlsIndex):\n",
    "    rest1Entropies = np.array([X_entropies.iloc[s,0],X_entropies.iloc[s,4],X_entropies.iloc[s,8],X_entropies.iloc[s,12],X_entropies.iloc[s,12],X_entropies.iloc[s,16],])\n",
    "    arithEntropies = np.array([X_entropies.iloc[s,1],X_entropies.iloc[s,5],X_entropies.iloc[s,9],X_entropies.iloc[s,13],X_entropies.iloc[s,13],X_entropies.iloc[s,17],])\n",
    "    rest2Entropies = np.array([X_entropies.iloc[s,2],X_entropies.iloc[s,6],X_entropies.iloc[s,10],X_entropies.iloc[s,14],X_entropies.iloc[s,14],X_entropies.iloc[s,18],])\n",
    "    auditoryEntropies = np.array([X_entropies.iloc[s,3],X_entropies.iloc[s,7],X_entropies.iloc[s,11],X_entropies.iloc[s,15],X_entropies.iloc[s,15],X_entropies.iloc[s,19],])\n",
    "    plots.montage_plot(rest1Entropies,['FZ','PZ','CZ','T3','T4','OZ'],ax[si,0])\n",
    "    plots.montage_plot(arithEntropies,['FZ','PZ','CZ','T3','T4','OZ'],ax[si,1])\n",
    "    plots.montage_plot(rest2Entropies,['FZ','PZ','CZ','T3','T4','OZ'],ax[si,2])\n",
    "    plots.montage_plot(auditoryEntropies,['FZ','PZ','CZ','T3','T4','OZ'],ax[si,3])\n",
    "    ax[si,0].set_ylabel('Subject ' + str(features.index[s]))\n",
    "    ax[si,0].set_title('rest1')\n",
    "    ax[si,1].set_title('arithmetic')\n",
    "    ax[si,2].set_title('rest2')\n",
    "    ax[si,3].set_title('auditory')\n",
    "fig.tight_layout()\n",
    "fig.subplots_adjust(top=0.95)\n",
    "plt.savefig('../data_analysis_results/FuzzEnt/Control/montage'+'.png',format='png')\n",
    "plt.close(fig)"
   ]
  },
  {
   "attachments": {},
   "cell_type": "markdown",
   "metadata": {},
   "source": [
    "#### features analysis"
   ]
  },
  {
   "cell_type": "code",
   "execution_count": 27,
   "metadata": {},
   "outputs": [],
   "source": [
    "mmnAnalyser = anls.mmnFeaturesAnalysis(electrodes)\n",
    "mmnAnalyser.compareMMNdevaintsFrame(X_mmn_1k,X_mmn_3k,features['category'],0,'Analysing MMN deviant tone MMN value for 0-100ms','../data_analysis_results/MMN/features/deviant_tone_0.png')\n",
    "mmnAnalyser.compareMMNdevaintsFrame(X_mmn_1k,X_mmn_3k,features['category'],1,'Analysing MMN deviant tone MMN value for 100-200ms','../data_analysis_results/MMN/features/deviant_tone_1.png')\n",
    "mmnAnalyser.compareMMNdevaintsFrame(X_mmn_1k,X_mmn_3k,features['category'],2,'Analysing MMN deviant tone MMN value for 200-300ms','../data_analysis_results/MMN/features/deviant_tone_2.png')\n",
    "mmnAnalyser.compareMMNdevaintsFrame(X_mmn_1k,X_mmn_3k,features['category'],3,'Analysing MMN deviant tone MMN value for 300-400ms','../data_analysis_results/MMN/features/deviant_tone_3.png')\n",
    "mmnAnalyser.compareMMNdevaintsFrame(X_mmn_1k,X_mmn_3k,features['category'],4,'Analysing MMN deviant tone MMN value for 400-450ms','../data_analysis_results/MMN/features/deviant_tone_4.png')"
   ]
  },
  {
   "cell_type": "code",
   "execution_count": null,
   "metadata": {},
   "outputs": [],
   "source": []
  }
 ],
 "metadata": {
  "kernelspec": {
   "display_name": "neuroBCI",
   "language": "python",
   "name": "python3"
  },
  "language_info": {
   "codemirror_mode": {
    "name": "ipython",
    "version": 3
   },
   "file_extension": ".py",
   "mimetype": "text/x-python",
   "name": "python",
   "nbconvert_exporter": "python",
   "pygments_lexer": "ipython3",
   "version": "3.10.8"
  },
  "orig_nbformat": 4
 },
 "nbformat": 4,
 "nbformat_minor": 2
}
